{
  "cells": [
    {
      "cell_type": "markdown",
      "metadata": {
        "id": "view-in-github",
        "colab_type": "text"
      },
      "source": [
        "<a href=\"https://colab.research.google.com/github/shekhar5908/AI-tools/blob/main/nmt2_modified.ipynb\" target=\"_parent\"><img src=\"https://colab.research.google.com/assets/colab-badge.svg\" alt=\"Open In Colab\"/></a>"
      ]
    },
    {
      "cell_type": "code",
      "execution_count": null,
      "metadata": {
        "id": "W_1XhdMwHkdh"
      },
      "outputs": [],
      "source": [
        "import numpy as np # linear algebra\n",
        "import pandas as pd # data processing, CSV file I/O (e.g. pd.read_csv)\n",
        "\n",
        "import os\n",
        "import random\n",
        "from fastai.vision.all import *\n",
        "from fastai.text.all import *\n",
        "from pathlib import Path\n",
        "\n",
        "import torch\n",
        "import torch.nn.functional as F\n",
        "import torch.optim as optim\n",
        "from torch.nn.utils.rnn import pad_sequence\n",
        "from torch.utils.data import DataLoader, Dataset\n",
        "from torch.utils.data.sampler import SubsetRandomSampler\n",
        "import torchvision\n",
        "\n",
        "\n",
        "from collections import Counter     # for tokenizer\n",
        "\n",
        "import torchvision.transforms as T\n",
        "import torchvision.models as models\n",
        "import torch\n",
        "import torchvision.transforms as transforms\n",
        "from PIL import Image\n",
        "\n",
        "\n",
        "import matplotlib.pyplot as plt\n",
        "# import matplotlib.image as Image\n",
        "import PIL\n",
        "from PIL import Image\n",
        "\n",
        "# for the bleu scores\n",
        "from nltk.translate import bleu\n",
        "from nltk.translate.bleu_score import sentence_bleu\n",
        "from nltk.translate.bleu_score import corpus_bleu"
      ]
    },
    {
      "cell_type": "code",
      "execution_count": null,
      "metadata": {
        "id": "i8AwUYg6w8zD"
      },
      "outputs": [],
      "source": [
        "import os\n",
        "import string\n",
        "from string import digits\n",
        "import matplotlib.pyplot as plt\n",
        "%matplotlib inline\n",
        "import re\n",
        "\n",
        "import seaborn as sns\n",
        "from sklearn.utils import shuffle\n",
        "from sklearn.model_selection import train_test_split\n",
        "from keras.layers import Input, LSTM, Embedding, Dense\n",
        "from keras.models import Model\n",
        "\n",
        "import sentencepiece as spm\n",
        "import tempfile\n",
        "\n",
        "\n",
        "import shutil\n",
        "\n",
        "\n",
        "pd.set_option('display.max_rows', 500)\n",
        "pd.set_option('display.max_columns', 500)\n",
        "pd.set_option('display.width', 1000)\n",
        "\n",
        "\n"
      ]
    },
    {
      "cell_type": "code",
      "execution_count": null,
      "metadata": {
        "colab": {
          "base_uri": "https://localhost:8080/"
        },
        "id": "Up1bYgWAIMXx",
        "outputId": "7cace1ff-c2b8-49c9-cacb-1b038330569a"
      },
      "outputs": [
        {
          "output_type": "execute_result",
          "data": {
            "text/plain": [
              "device(type='cpu')"
            ]
          },
          "metadata": {},
          "execution_count": 5
        }
      ],
      "source": [
        "device = torch.device(\"cuda:0\" if torch.cuda.is_available() else \"cpu\")\n",
        "device"
      ]
    },
    {
      "cell_type": "code",
      "execution_count": null,
      "metadata": {
        "id": "HRR4UIE6HWOF"
      },
      "outputs": [],
      "source": [
        "English_captions_path = \"/content/drive/MyDrive/final_project/captions.txt\"\n",
        "Hindi_captions_path = \"/content/drive/MyDrive/final_project/UnClean-5Sentences_withComma.txt\"\n",
        "images_path = \"/content/drive/MyDrive/final_project/Images\""
      ]
    },
    {
      "cell_type": "markdown",
      "metadata": {
        "id": "VVHNDyDwRd55"
      },
      "source": [
        "# Data preprocessing"
      ]
    },
    {
      "cell_type": "code",
      "execution_count": null,
      "metadata": {
        "colab": {
          "base_uri": "https://localhost:8080/",
          "height": 224
        },
        "id": "UPbC7ecUIYsZ",
        "outputId": "0d6bd48a-52bf-4b75-dcb4-63c4d86fb2bb"
      },
      "outputs": [
        {
          "output_type": "stream",
          "name": "stdout",
          "text": [
            "No of captions: 40455\n"
          ]
        },
        {
          "output_type": "execute_result",
          "data": {
            "text/plain": [
              "                       image                                                                   caption\n",
              "0  1000268201_693b08cb0e.jpg  A child in a pink dress is climbing up a set of stairs in an entry way .\n",
              "1  1000268201_693b08cb0e.jpg                                     A girl going into a wooden building .\n",
              "2  1000268201_693b08cb0e.jpg                          A little girl climbing into a wooden playhouse .\n",
              "3  1000268201_693b08cb0e.jpg                      A little girl climbing the stairs to her playhouse .\n",
              "4  1000268201_693b08cb0e.jpg                 A little girl in a pink dress going into a wooden cabin ."
            ],
            "text/html": [
              "\n",
              "  <div id=\"df-4a42da36-03e5-4073-8de8-170221ffd5dc\" class=\"colab-df-container\">\n",
              "    <div>\n",
              "<style scoped>\n",
              "    .dataframe tbody tr th:only-of-type {\n",
              "        vertical-align: middle;\n",
              "    }\n",
              "\n",
              "    .dataframe tbody tr th {\n",
              "        vertical-align: top;\n",
              "    }\n",
              "\n",
              "    .dataframe thead th {\n",
              "        text-align: right;\n",
              "    }\n",
              "</style>\n",
              "<table border=\"1\" class=\"dataframe\">\n",
              "  <thead>\n",
              "    <tr style=\"text-align: right;\">\n",
              "      <th></th>\n",
              "      <th>image</th>\n",
              "      <th>caption</th>\n",
              "    </tr>\n",
              "  </thead>\n",
              "  <tbody>\n",
              "    <tr>\n",
              "      <th>0</th>\n",
              "      <td>1000268201_693b08cb0e.jpg</td>\n",
              "      <td>A child in a pink dress is climbing up a set of stairs in an entry way .</td>\n",
              "    </tr>\n",
              "    <tr>\n",
              "      <th>1</th>\n",
              "      <td>1000268201_693b08cb0e.jpg</td>\n",
              "      <td>A girl going into a wooden building .</td>\n",
              "    </tr>\n",
              "    <tr>\n",
              "      <th>2</th>\n",
              "      <td>1000268201_693b08cb0e.jpg</td>\n",
              "      <td>A little girl climbing into a wooden playhouse .</td>\n",
              "    </tr>\n",
              "    <tr>\n",
              "      <th>3</th>\n",
              "      <td>1000268201_693b08cb0e.jpg</td>\n",
              "      <td>A little girl climbing the stairs to her playhouse .</td>\n",
              "    </tr>\n",
              "    <tr>\n",
              "      <th>4</th>\n",
              "      <td>1000268201_693b08cb0e.jpg</td>\n",
              "      <td>A little girl in a pink dress going into a wooden cabin .</td>\n",
              "    </tr>\n",
              "  </tbody>\n",
              "</table>\n",
              "</div>\n",
              "    <div class=\"colab-df-buttons\">\n",
              "\n",
              "  <div class=\"colab-df-container\">\n",
              "    <button class=\"colab-df-convert\" onclick=\"convertToInteractive('df-4a42da36-03e5-4073-8de8-170221ffd5dc')\"\n",
              "            title=\"Convert this dataframe to an interactive table.\"\n",
              "            style=\"display:none;\">\n",
              "\n",
              "  <svg xmlns=\"http://www.w3.org/2000/svg\" height=\"24px\" viewBox=\"0 -960 960 960\">\n",
              "    <path d=\"M120-120v-720h720v720H120Zm60-500h600v-160H180v160Zm220 220h160v-160H400v160Zm0 220h160v-160H400v160ZM180-400h160v-160H180v160Zm440 0h160v-160H620v160ZM180-180h160v-160H180v160Zm440 0h160v-160H620v160Z\"/>\n",
              "  </svg>\n",
              "    </button>\n",
              "\n",
              "  <style>\n",
              "    .colab-df-container {\n",
              "      display:flex;\n",
              "      gap: 12px;\n",
              "    }\n",
              "\n",
              "    .colab-df-convert {\n",
              "      background-color: #E8F0FE;\n",
              "      border: none;\n",
              "      border-radius: 50%;\n",
              "      cursor: pointer;\n",
              "      display: none;\n",
              "      fill: #1967D2;\n",
              "      height: 32px;\n",
              "      padding: 0 0 0 0;\n",
              "      width: 32px;\n",
              "    }\n",
              "\n",
              "    .colab-df-convert:hover {\n",
              "      background-color: #E2EBFA;\n",
              "      box-shadow: 0px 1px 2px rgba(60, 64, 67, 0.3), 0px 1px 3px 1px rgba(60, 64, 67, 0.15);\n",
              "      fill: #174EA6;\n",
              "    }\n",
              "\n",
              "    .colab-df-buttons div {\n",
              "      margin-bottom: 4px;\n",
              "    }\n",
              "\n",
              "    [theme=dark] .colab-df-convert {\n",
              "      background-color: #3B4455;\n",
              "      fill: #D2E3FC;\n",
              "    }\n",
              "\n",
              "    [theme=dark] .colab-df-convert:hover {\n",
              "      background-color: #434B5C;\n",
              "      box-shadow: 0px 1px 3px 1px rgba(0, 0, 0, 0.15);\n",
              "      filter: drop-shadow(0px 1px 2px rgba(0, 0, 0, 0.3));\n",
              "      fill: #FFFFFF;\n",
              "    }\n",
              "  </style>\n",
              "\n",
              "    <script>\n",
              "      const buttonEl =\n",
              "        document.querySelector('#df-4a42da36-03e5-4073-8de8-170221ffd5dc button.colab-df-convert');\n",
              "      buttonEl.style.display =\n",
              "        google.colab.kernel.accessAllowed ? 'block' : 'none';\n",
              "\n",
              "      async function convertToInteractive(key) {\n",
              "        const element = document.querySelector('#df-4a42da36-03e5-4073-8de8-170221ffd5dc');\n",
              "        const dataTable =\n",
              "          await google.colab.kernel.invokeFunction('convertToInteractive',\n",
              "                                                    [key], {});\n",
              "        if (!dataTable) return;\n",
              "\n",
              "        const docLinkHtml = 'Like what you see? Visit the ' +\n",
              "          '<a target=\"_blank\" href=https://colab.research.google.com/notebooks/data_table.ipynb>data table notebook</a>'\n",
              "          + ' to learn more about interactive tables.';\n",
              "        element.innerHTML = '';\n",
              "        dataTable['output_type'] = 'display_data';\n",
              "        await google.colab.output.renderOutput(dataTable, element);\n",
              "        const docLink = document.createElement('div');\n",
              "        docLink.innerHTML = docLinkHtml;\n",
              "        element.appendChild(docLink);\n",
              "      }\n",
              "    </script>\n",
              "  </div>\n",
              "\n",
              "\n",
              "<div id=\"df-072f3786-7df2-4372-b097-5ce19994e7c2\">\n",
              "  <button class=\"colab-df-quickchart\" onclick=\"quickchart('df-072f3786-7df2-4372-b097-5ce19994e7c2')\"\n",
              "            title=\"Suggest charts\"\n",
              "            style=\"display:none;\">\n",
              "\n",
              "<svg xmlns=\"http://www.w3.org/2000/svg\" height=\"24px\"viewBox=\"0 0 24 24\"\n",
              "     width=\"24px\">\n",
              "    <g>\n",
              "        <path d=\"M19 3H5c-1.1 0-2 .9-2 2v14c0 1.1.9 2 2 2h14c1.1 0 2-.9 2-2V5c0-1.1-.9-2-2-2zM9 17H7v-7h2v7zm4 0h-2V7h2v10zm4 0h-2v-4h2v4z\"/>\n",
              "    </g>\n",
              "</svg>\n",
              "  </button>\n",
              "\n",
              "<style>\n",
              "  .colab-df-quickchart {\n",
              "      --bg-color: #E8F0FE;\n",
              "      --fill-color: #1967D2;\n",
              "      --hover-bg-color: #E2EBFA;\n",
              "      --hover-fill-color: #174EA6;\n",
              "      --disabled-fill-color: #AAA;\n",
              "      --disabled-bg-color: #DDD;\n",
              "  }\n",
              "\n",
              "  [theme=dark] .colab-df-quickchart {\n",
              "      --bg-color: #3B4455;\n",
              "      --fill-color: #D2E3FC;\n",
              "      --hover-bg-color: #434B5C;\n",
              "      --hover-fill-color: #FFFFFF;\n",
              "      --disabled-bg-color: #3B4455;\n",
              "      --disabled-fill-color: #666;\n",
              "  }\n",
              "\n",
              "  .colab-df-quickchart {\n",
              "    background-color: var(--bg-color);\n",
              "    border: none;\n",
              "    border-radius: 50%;\n",
              "    cursor: pointer;\n",
              "    display: none;\n",
              "    fill: var(--fill-color);\n",
              "    height: 32px;\n",
              "    padding: 0;\n",
              "    width: 32px;\n",
              "  }\n",
              "\n",
              "  .colab-df-quickchart:hover {\n",
              "    background-color: var(--hover-bg-color);\n",
              "    box-shadow: 0 1px 2px rgba(60, 64, 67, 0.3), 0 1px 3px 1px rgba(60, 64, 67, 0.15);\n",
              "    fill: var(--button-hover-fill-color);\n",
              "  }\n",
              "\n",
              "  .colab-df-quickchart-complete:disabled,\n",
              "  .colab-df-quickchart-complete:disabled:hover {\n",
              "    background-color: var(--disabled-bg-color);\n",
              "    fill: var(--disabled-fill-color);\n",
              "    box-shadow: none;\n",
              "  }\n",
              "\n",
              "  .colab-df-spinner {\n",
              "    border: 2px solid var(--fill-color);\n",
              "    border-color: transparent;\n",
              "    border-bottom-color: var(--fill-color);\n",
              "    animation:\n",
              "      spin 1s steps(1) infinite;\n",
              "  }\n",
              "\n",
              "  @keyframes spin {\n",
              "    0% {\n",
              "      border-color: transparent;\n",
              "      border-bottom-color: var(--fill-color);\n",
              "      border-left-color: var(--fill-color);\n",
              "    }\n",
              "    20% {\n",
              "      border-color: transparent;\n",
              "      border-left-color: var(--fill-color);\n",
              "      border-top-color: var(--fill-color);\n",
              "    }\n",
              "    30% {\n",
              "      border-color: transparent;\n",
              "      border-left-color: var(--fill-color);\n",
              "      border-top-color: var(--fill-color);\n",
              "      border-right-color: var(--fill-color);\n",
              "    }\n",
              "    40% {\n",
              "      border-color: transparent;\n",
              "      border-right-color: var(--fill-color);\n",
              "      border-top-color: var(--fill-color);\n",
              "    }\n",
              "    60% {\n",
              "      border-color: transparent;\n",
              "      border-right-color: var(--fill-color);\n",
              "    }\n",
              "    80% {\n",
              "      border-color: transparent;\n",
              "      border-right-color: var(--fill-color);\n",
              "      border-bottom-color: var(--fill-color);\n",
              "    }\n",
              "    90% {\n",
              "      border-color: transparent;\n",
              "      border-bottom-color: var(--fill-color);\n",
              "    }\n",
              "  }\n",
              "</style>\n",
              "\n",
              "  <script>\n",
              "    async function quickchart(key) {\n",
              "      const quickchartButtonEl =\n",
              "        document.querySelector('#' + key + ' button');\n",
              "      quickchartButtonEl.disabled = true;  // To prevent multiple clicks.\n",
              "      quickchartButtonEl.classList.add('colab-df-spinner');\n",
              "      try {\n",
              "        const charts = await google.colab.kernel.invokeFunction(\n",
              "            'suggestCharts', [key], {});\n",
              "      } catch (error) {\n",
              "        console.error('Error during call to suggestCharts:', error);\n",
              "      }\n",
              "      quickchartButtonEl.classList.remove('colab-df-spinner');\n",
              "      quickchartButtonEl.classList.add('colab-df-quickchart-complete');\n",
              "    }\n",
              "    (() => {\n",
              "      let quickchartButtonEl =\n",
              "        document.querySelector('#df-072f3786-7df2-4372-b097-5ce19994e7c2 button');\n",
              "      quickchartButtonEl.style.display =\n",
              "        google.colab.kernel.accessAllowed ? 'block' : 'none';\n",
              "    })();\n",
              "  </script>\n",
              "</div>\n",
              "\n",
              "    </div>\n",
              "  </div>\n"
            ],
            "application/vnd.google.colaboratory.intrinsic+json": {
              "type": "dataframe",
              "variable_name": "df_english",
              "summary": "{\n  \"name\": \"df_english\",\n  \"rows\": 40455,\n  \"fields\": [\n    {\n      \"column\": \"image\",\n      \"properties\": {\n        \"dtype\": \"category\",\n        \"num_unique_values\": 8091,\n        \"samples\": [\n          \"3139895886_5a6d495b13.jpg\",\n          \"3133825703_359a0c414d.jpg\",\n          \"244910177_7c4ec3f65b.jpg\"\n        ],\n        \"semantic_type\": \"\",\n        \"description\": \"\"\n      }\n    },\n    {\n      \"column\": \"caption\",\n      \"properties\": {\n        \"dtype\": \"string\",\n        \"num_unique_values\": 40201,\n        \"samples\": [\n          \"A girl plays T-ball .\",\n          \"A woman in riding attire rides a jumping horse .\",\n          \"A brown dog wearing a pink shirt is followed by a brown dog wearing a yellow shirt .\"\n        ],\n        \"semantic_type\": \"\",\n        \"description\": \"\"\n      }\n    }\n  ]\n}"
            }
          },
          "metadata": {},
          "execution_count": 10
        }
      ],
      "source": [
        "# READ THE CAPTIONS FILE.txt\n",
        "df_english = pd.read_csv(English_captions_path)\n",
        "\n",
        "print(f\"No of captions: {len(df_english)}\")\n",
        "df_english.head()"
      ]
    },
    {
      "cell_type": "code",
      "source": [
        "from google.colab import drive\n",
        "drive.mount('/content/drive')"
      ],
      "metadata": {
        "colab": {
          "base_uri": "https://localhost:8080/"
        },
        "id": "AwDXu_Z962rt",
        "outputId": "4ecbc6c7-1b2b-4c76-9b41-6334a27c23c5"
      },
      "execution_count": null,
      "outputs": [
        {
          "output_type": "stream",
          "name": "stdout",
          "text": [
            "Drive already mounted at /content/drive; to attempt to forcibly remount, call drive.mount(\"/content/drive\", force_remount=True).\n"
          ]
        }
      ]
    },
    {
      "cell_type": "code",
      "execution_count": null,
      "metadata": {
        "colab": {
          "base_uri": "https://localhost:8080/",
          "height": 224
        },
        "id": "Z9iBqechIzj_",
        "outputId": "386b27ac-d603-497a-934b-22ff03f7bd98"
      },
      "outputs": [
        {
          "output_type": "stream",
          "name": "stdout",
          "text": [
            "No of captions: 40450\n"
          ]
        },
        {
          "output_type": "execute_result",
          "data": {
            "text/plain": [
              "                   image                                                                           caption\n",
              "0  1000268201_693b08cb0e  गुलाबी पोशाक में एक बच्चा प्रवेश के रास्ते में सीढ़ियों के एक सेट पर चढ़ रहा है।\n",
              "1  1000268201_693b08cb0e                                            एक लड़की लकड़ी की इमारत में जा रही है।\n",
              "2  1000268201_693b08cb0e                                       एक छोटी लड़की लकड़ी के प्लेहाउस में चढ़ गई।\n",
              "3  1000268201_693b08cb0e                           एक छोटी सी लड़की अपने प्लेहाउस में सीढ़ियाँ चढ़ रही थी।\n",
              "4  1000268201_693b08cb0e                एक गुलाबी पोशाक में एक छोटी लड़की एक लकड़ी के केबिन में जा रही है।"
            ],
            "text/html": [
              "\n",
              "  <div id=\"df-9ae60c07-70c7-4a7f-acdc-160b3bfd30b3\" class=\"colab-df-container\">\n",
              "    <div>\n",
              "<style scoped>\n",
              "    .dataframe tbody tr th:only-of-type {\n",
              "        vertical-align: middle;\n",
              "    }\n",
              "\n",
              "    .dataframe tbody tr th {\n",
              "        vertical-align: top;\n",
              "    }\n",
              "\n",
              "    .dataframe thead th {\n",
              "        text-align: right;\n",
              "    }\n",
              "</style>\n",
              "<table border=\"1\" class=\"dataframe\">\n",
              "  <thead>\n",
              "    <tr style=\"text-align: right;\">\n",
              "      <th></th>\n",
              "      <th>image</th>\n",
              "      <th>caption</th>\n",
              "    </tr>\n",
              "  </thead>\n",
              "  <tbody>\n",
              "    <tr>\n",
              "      <th>0</th>\n",
              "      <td>1000268201_693b08cb0e</td>\n",
              "      <td>गुलाबी पोशाक में एक बच्चा प्रवेश के रास्ते में सीढ़ियों के एक सेट पर चढ़ रहा है।</td>\n",
              "    </tr>\n",
              "    <tr>\n",
              "      <th>1</th>\n",
              "      <td>1000268201_693b08cb0e</td>\n",
              "      <td>एक लड़की लकड़ी की इमारत में जा रही है।</td>\n",
              "    </tr>\n",
              "    <tr>\n",
              "      <th>2</th>\n",
              "      <td>1000268201_693b08cb0e</td>\n",
              "      <td>एक छोटी लड़की लकड़ी के प्लेहाउस में चढ़ गई।</td>\n",
              "    </tr>\n",
              "    <tr>\n",
              "      <th>3</th>\n",
              "      <td>1000268201_693b08cb0e</td>\n",
              "      <td>एक छोटी सी लड़की अपने प्लेहाउस में सीढ़ियाँ चढ़ रही थी।</td>\n",
              "    </tr>\n",
              "    <tr>\n",
              "      <th>4</th>\n",
              "      <td>1000268201_693b08cb0e</td>\n",
              "      <td>एक गुलाबी पोशाक में एक छोटी लड़की एक लकड़ी के केबिन में जा रही है।</td>\n",
              "    </tr>\n",
              "  </tbody>\n",
              "</table>\n",
              "</div>\n",
              "    <div class=\"colab-df-buttons\">\n",
              "\n",
              "  <div class=\"colab-df-container\">\n",
              "    <button class=\"colab-df-convert\" onclick=\"convertToInteractive('df-9ae60c07-70c7-4a7f-acdc-160b3bfd30b3')\"\n",
              "            title=\"Convert this dataframe to an interactive table.\"\n",
              "            style=\"display:none;\">\n",
              "\n",
              "  <svg xmlns=\"http://www.w3.org/2000/svg\" height=\"24px\" viewBox=\"0 -960 960 960\">\n",
              "    <path d=\"M120-120v-720h720v720H120Zm60-500h600v-160H180v160Zm220 220h160v-160H400v160Zm0 220h160v-160H400v160ZM180-400h160v-160H180v160Zm440 0h160v-160H620v160ZM180-180h160v-160H180v160Zm440 0h160v-160H620v160Z\"/>\n",
              "  </svg>\n",
              "    </button>\n",
              "\n",
              "  <style>\n",
              "    .colab-df-container {\n",
              "      display:flex;\n",
              "      gap: 12px;\n",
              "    }\n",
              "\n",
              "    .colab-df-convert {\n",
              "      background-color: #E8F0FE;\n",
              "      border: none;\n",
              "      border-radius: 50%;\n",
              "      cursor: pointer;\n",
              "      display: none;\n",
              "      fill: #1967D2;\n",
              "      height: 32px;\n",
              "      padding: 0 0 0 0;\n",
              "      width: 32px;\n",
              "    }\n",
              "\n",
              "    .colab-df-convert:hover {\n",
              "      background-color: #E2EBFA;\n",
              "      box-shadow: 0px 1px 2px rgba(60, 64, 67, 0.3), 0px 1px 3px 1px rgba(60, 64, 67, 0.15);\n",
              "      fill: #174EA6;\n",
              "    }\n",
              "\n",
              "    .colab-df-buttons div {\n",
              "      margin-bottom: 4px;\n",
              "    }\n",
              "\n",
              "    [theme=dark] .colab-df-convert {\n",
              "      background-color: #3B4455;\n",
              "      fill: #D2E3FC;\n",
              "    }\n",
              "\n",
              "    [theme=dark] .colab-df-convert:hover {\n",
              "      background-color: #434B5C;\n",
              "      box-shadow: 0px 1px 3px 1px rgba(0, 0, 0, 0.15);\n",
              "      filter: drop-shadow(0px 1px 2px rgba(0, 0, 0, 0.3));\n",
              "      fill: #FFFFFF;\n",
              "    }\n",
              "  </style>\n",
              "\n",
              "    <script>\n",
              "      const buttonEl =\n",
              "        document.querySelector('#df-9ae60c07-70c7-4a7f-acdc-160b3bfd30b3 button.colab-df-convert');\n",
              "      buttonEl.style.display =\n",
              "        google.colab.kernel.accessAllowed ? 'block' : 'none';\n",
              "\n",
              "      async function convertToInteractive(key) {\n",
              "        const element = document.querySelector('#df-9ae60c07-70c7-4a7f-acdc-160b3bfd30b3');\n",
              "        const dataTable =\n",
              "          await google.colab.kernel.invokeFunction('convertToInteractive',\n",
              "                                                    [key], {});\n",
              "        if (!dataTable) return;\n",
              "\n",
              "        const docLinkHtml = 'Like what you see? Visit the ' +\n",
              "          '<a target=\"_blank\" href=https://colab.research.google.com/notebooks/data_table.ipynb>data table notebook</a>'\n",
              "          + ' to learn more about interactive tables.';\n",
              "        element.innerHTML = '';\n",
              "        dataTable['output_type'] = 'display_data';\n",
              "        await google.colab.output.renderOutput(dataTable, element);\n",
              "        const docLink = document.createElement('div');\n",
              "        docLink.innerHTML = docLinkHtml;\n",
              "        element.appendChild(docLink);\n",
              "      }\n",
              "    </script>\n",
              "  </div>\n",
              "\n",
              "\n",
              "<div id=\"df-2bd95356-38af-4fbb-a9a6-57f2e6d38bcb\">\n",
              "  <button class=\"colab-df-quickchart\" onclick=\"quickchart('df-2bd95356-38af-4fbb-a9a6-57f2e6d38bcb')\"\n",
              "            title=\"Suggest charts\"\n",
              "            style=\"display:none;\">\n",
              "\n",
              "<svg xmlns=\"http://www.w3.org/2000/svg\" height=\"24px\"viewBox=\"0 0 24 24\"\n",
              "     width=\"24px\">\n",
              "    <g>\n",
              "        <path d=\"M19 3H5c-1.1 0-2 .9-2 2v14c0 1.1.9 2 2 2h14c1.1 0 2-.9 2-2V5c0-1.1-.9-2-2-2zM9 17H7v-7h2v7zm4 0h-2V7h2v10zm4 0h-2v-4h2v4z\"/>\n",
              "    </g>\n",
              "</svg>\n",
              "  </button>\n",
              "\n",
              "<style>\n",
              "  .colab-df-quickchart {\n",
              "      --bg-color: #E8F0FE;\n",
              "      --fill-color: #1967D2;\n",
              "      --hover-bg-color: #E2EBFA;\n",
              "      --hover-fill-color: #174EA6;\n",
              "      --disabled-fill-color: #AAA;\n",
              "      --disabled-bg-color: #DDD;\n",
              "  }\n",
              "\n",
              "  [theme=dark] .colab-df-quickchart {\n",
              "      --bg-color: #3B4455;\n",
              "      --fill-color: #D2E3FC;\n",
              "      --hover-bg-color: #434B5C;\n",
              "      --hover-fill-color: #FFFFFF;\n",
              "      --disabled-bg-color: #3B4455;\n",
              "      --disabled-fill-color: #666;\n",
              "  }\n",
              "\n",
              "  .colab-df-quickchart {\n",
              "    background-color: var(--bg-color);\n",
              "    border: none;\n",
              "    border-radius: 50%;\n",
              "    cursor: pointer;\n",
              "    display: none;\n",
              "    fill: var(--fill-color);\n",
              "    height: 32px;\n",
              "    padding: 0;\n",
              "    width: 32px;\n",
              "  }\n",
              "\n",
              "  .colab-df-quickchart:hover {\n",
              "    background-color: var(--hover-bg-color);\n",
              "    box-shadow: 0 1px 2px rgba(60, 64, 67, 0.3), 0 1px 3px 1px rgba(60, 64, 67, 0.15);\n",
              "    fill: var(--button-hover-fill-color);\n",
              "  }\n",
              "\n",
              "  .colab-df-quickchart-complete:disabled,\n",
              "  .colab-df-quickchart-complete:disabled:hover {\n",
              "    background-color: var(--disabled-bg-color);\n",
              "    fill: var(--disabled-fill-color);\n",
              "    box-shadow: none;\n",
              "  }\n",
              "\n",
              "  .colab-df-spinner {\n",
              "    border: 2px solid var(--fill-color);\n",
              "    border-color: transparent;\n",
              "    border-bottom-color: var(--fill-color);\n",
              "    animation:\n",
              "      spin 1s steps(1) infinite;\n",
              "  }\n",
              "\n",
              "  @keyframes spin {\n",
              "    0% {\n",
              "      border-color: transparent;\n",
              "      border-bottom-color: var(--fill-color);\n",
              "      border-left-color: var(--fill-color);\n",
              "    }\n",
              "    20% {\n",
              "      border-color: transparent;\n",
              "      border-left-color: var(--fill-color);\n",
              "      border-top-color: var(--fill-color);\n",
              "    }\n",
              "    30% {\n",
              "      border-color: transparent;\n",
              "      border-left-color: var(--fill-color);\n",
              "      border-top-color: var(--fill-color);\n",
              "      border-right-color: var(--fill-color);\n",
              "    }\n",
              "    40% {\n",
              "      border-color: transparent;\n",
              "      border-right-color: var(--fill-color);\n",
              "      border-top-color: var(--fill-color);\n",
              "    }\n",
              "    60% {\n",
              "      border-color: transparent;\n",
              "      border-right-color: var(--fill-color);\n",
              "    }\n",
              "    80% {\n",
              "      border-color: transparent;\n",
              "      border-right-color: var(--fill-color);\n",
              "      border-bottom-color: var(--fill-color);\n",
              "    }\n",
              "    90% {\n",
              "      border-color: transparent;\n",
              "      border-bottom-color: var(--fill-color);\n",
              "    }\n",
              "  }\n",
              "</style>\n",
              "\n",
              "  <script>\n",
              "    async function quickchart(key) {\n",
              "      const quickchartButtonEl =\n",
              "        document.querySelector('#' + key + ' button');\n",
              "      quickchartButtonEl.disabled = true;  // To prevent multiple clicks.\n",
              "      quickchartButtonEl.classList.add('colab-df-spinner');\n",
              "      try {\n",
              "        const charts = await google.colab.kernel.invokeFunction(\n",
              "            'suggestCharts', [key], {});\n",
              "      } catch (error) {\n",
              "        console.error('Error during call to suggestCharts:', error);\n",
              "      }\n",
              "      quickchartButtonEl.classList.remove('colab-df-spinner');\n",
              "      quickchartButtonEl.classList.add('colab-df-quickchart-complete');\n",
              "    }\n",
              "    (() => {\n",
              "      let quickchartButtonEl =\n",
              "        document.querySelector('#df-2bd95356-38af-4fbb-a9a6-57f2e6d38bcb button');\n",
              "      quickchartButtonEl.style.display =\n",
              "        google.colab.kernel.accessAllowed ? 'block' : 'none';\n",
              "    })();\n",
              "  </script>\n",
              "</div>\n",
              "\n",
              "    </div>\n",
              "  </div>\n"
            ],
            "application/vnd.google.colaboratory.intrinsic+json": {
              "type": "dataframe",
              "variable_name": "df_hindi",
              "summary": "{\n  \"name\": \"df_hindi\",\n  \"rows\": 40450,\n  \"fields\": [\n    {\n      \"column\": \"image\",\n      \"properties\": {\n        \"dtype\": \"category\",\n        \"num_unique_values\": 8090,\n        \"samples\": [\n          \"3141293960_74459f0a24\",\n          \"3134092148_151154139a\",\n          \"2449289139_08fc1092c1\"\n        ],\n        \"semantic_type\": \"\",\n        \"description\": \"\"\n      }\n    },\n    {\n      \"column\": \"caption\",\n      \"properties\": {\n        \"dtype\": \"string\",\n        \"num_unique_values\": 40069,\n        \"samples\": [\n          \"\\u090f\\u0915 \\u0938\\u094d\\u0928\\u094b\\u092c\\u094b\\u0930\\u094d\\u0921\\u0930 \\u090f\\u0915 \\u092c\\u0948\\u0930\\u0932 \\u092a\\u0930 \\u0915\\u0942\\u0926\\u0924\\u093e \\u0939\\u0948\\u0964\",\n          \"\\u090f\\u0915 \\u0935\\u094d\\u092f\\u0915\\u094d\\u0924\\u093f \\u090f\\u0915 \\u092e\\u094b\\u091f\\u0930\\u0938\\u093e\\u0907\\u0915\\u093f\\u0932 \\u092a\\u0930 \\u090f\\u0915 \\u091a\\u091f\\u094d\\u091f\\u093e\\u0928 \\u0938\\u0947 \\u090f\\u0915 \\u092a\\u0939\\u093f\\u092f\\u093e \\u0928\\u093f\\u0915\\u093e\\u0932\\u0924\\u093e \\u0939\\u0948\\u0964\",\n          \"\\u090f\\u0915 \\u0914\\u0930 \\u092a\\u094d\\u0932\\u093e\\u0938\\u094d\\u091f\\u093f\\u0915 \\u0915\\u0947 \\u091c\\u094b\\u0915\\u0930 \\u0915\\u0947 \\u092c\\u0917\\u0932 \\u092e\\u0947\\u0902 \\u092c\\u0948\\u0932\\u0942\\u0928 \\u0915\\u0947 \\u0938\\u093e\\u0925 \\u0924\\u0940\\u0928 \\u0930\\u0902\\u0917\\u0940\\u0928 \\u091c\\u094b\\u0915\\u0930\\u0964\"\n        ],\n        \"semantic_type\": \"\",\n        \"description\": \"\"\n      }\n    }\n  ]\n}"
            }
          },
          "metadata": {},
          "execution_count": 12
        }
      ],
      "source": [
        "# READ THE CAPTIONS FILE.txt\n",
        "df_hindi = pd.read_csv(Hindi_captions_path)\n",
        "\n",
        "print(f\"No of captions: {len(df_hindi)}\")\n",
        "df_hindi.head()"
      ]
    },
    {
      "cell_type": "code",
      "execution_count": null,
      "metadata": {
        "colab": {
          "base_uri": "https://localhost:8080/",
          "height": 367
        },
        "id": "BC7_CcnRJ4oX",
        "outputId": "abaccdb6-7fdc-45f1-b349-1144447bcbbc"
      },
      "outputs": [
        {
          "output_type": "stream",
          "name": "stdout",
          "text": [
            "Number of images in the folder: 8091\n"
          ]
        },
        {
          "output_type": "display_data",
          "data": {
            "text/plain": [
              "<Figure size 500x500 with 1 Axes>"
            ],
            "image/png": "[encoded data removed]"
          },
          "metadata": {}
        }
      ],
      "source": [
        "\n",
        "\n",
        "from PIL import Image\n",
        "\n",
        "\n",
        "\n",
        "# Count the number of images in the folder\n",
        "image_files = [f for f in os.listdir(images_path) if f.lower().endswith(('.png', '.jpg', '.jpeg', '.gif', '.bmp'))]\n",
        "image_count = len(image_files)\n",
        "\n",
        "print(f\"Number of images in the folder: {image_count}\")\n",
        "\n",
        "# Display a random image from the folder\n",
        "if image_count > 0:\n",
        "    # Choose a random image\n",
        "    random_image = random.choice(image_files)\n",
        "    image_path = os.path.join(images_path, random_image)\n",
        "\n",
        "    # Open and display the image\n",
        "    img = Image.open(image_path)\n",
        "    plt.figure(figsize=(5, 5))\n",
        "    plt.imshow(img)\n",
        "    plt.axis('off')\n",
        "    plt.title(f\"Random image: {random_image}\")\n",
        "    plt.show()\n",
        "else:\n",
        "    print(\"No images found in the specified folder.\")"
      ]
    },
    {
      "cell_type": "markdown",
      "metadata": {
        "id": "9L7nA2hzIgg-"
      },
      "source": [
        "## now , here it come a first problem, count of images are 8091 and each images are related to 5 caption sentences, where in English captions count is correct i.e. 40455 but Hindi captions count are 40450, its mean that one image is missing its Hindi captions"
      ]
    },
    {
      "cell_type": "code",
      "execution_count": null,
      "metadata": {
        "colab": {
          "base_uri": "https://localhost:8080/"
        },
        "id": "3lcbAwlFFdsF",
        "outputId": "0757cc0d-9029-47d8-d60a-c35502020231"
      },
      "outputs": [
        {
          "output_type": "stream",
          "name": "stdout",
          "text": [
            "                           image                                                                      caption\n",
            "0      1000268201_693b08cb0e.jpg     A child in a pink dress is climbing up a set of stairs in an entry way .\n",
            "1      1000268201_693b08cb0e.jpg                                        A girl going into a wooden building .\n",
            "2      1000268201_693b08cb0e.jpg                             A little girl climbing into a wooden playhouse .\n",
            "3      1000268201_693b08cb0e.jpg                         A little girl climbing the stairs to her playhouse .\n",
            "4      1000268201_693b08cb0e.jpg                    A little girl in a pink dress going into a wooden cabin .\n",
            "...                          ...                                                                          ...\n",
            "40450   997722733_0cb5439472.jpg                                     A man in a pink shirt climbs a rock face\n",
            "40451   997722733_0cb5439472.jpg                                     A man is rock climbing high in the air .\n",
            "40452   997722733_0cb5439472.jpg  A person in a red shirt climbing up a rock face covered in assist handles .\n",
            "40453   997722733_0cb5439472.jpg                                              A rock climber in a red shirt .\n",
            "40454   997722733_0cb5439472.jpg                           A rock climber practices on a rock climbing wall .\n",
            "\n",
            "[40455 rows x 2 columns]\n"
          ]
        }
      ],
      "source": [
        "print(df_english)"
      ]
    },
    {
      "cell_type": "code",
      "execution_count": null,
      "metadata": {
        "colab": {
          "base_uri": "https://localhost:8080/"
        },
        "id": "gdeMxa7vFh78",
        "outputId": "3f1dc3a0-3817-4fa6-c435-7e63eb374c87"
      },
      "outputs": [
        {
          "output_type": "stream",
          "name": "stdout",
          "text": [
            "                       image                                                                                caption\n",
            "0      1000268201_693b08cb0e       गुलाबी पोशाक में एक बच्चा प्रवेश के रास्ते में सीढ़ियों के एक सेट पर चढ़ रहा है।\n",
            "1      1000268201_693b08cb0e                                                 एक लड़की लकड़ी की इमारत में जा रही है।\n",
            "2      1000268201_693b08cb0e                                            एक छोटी लड़की लकड़ी के प्लेहाउस में चढ़ गई।\n",
            "3      1000268201_693b08cb0e                                एक छोटी सी लड़की अपने प्लेहाउस में सीढ़ियाँ चढ़ रही थी।\n",
            "4      1000268201_693b08cb0e                     एक गुलाबी पोशाक में एक छोटी लड़की एक लकड़ी के केबिन में जा रही है।\n",
            "...                      ...                                                                                    ...\n",
            "40445   997722733_0cb5439472                                    एक गुलाबी शर्ट में एक आदमी एक रॉक चेहरे पर चढ़ता है\n",
            "40446   997722733_0cb5439472                                                  एक आदमी हवा में ऊंची चढ़ाई कर रहा है।\n",
            "40447   997722733_0cb5439472  एक लाल रंग की शर्ट में एक व्यक्ति असिस्ट हैंडल में ढंके हुए एक चट्टान के ऊपर चढ़ गया।\n",
            "40448   997722733_0cb5439472                                                          लाल शर्ट में एक रॉक क्लाइंबर।\n",
            "40449   997722733_0cb5439472                                 रॉक क्लाइम्बर्स रॉक क्लाइम्बिंग वॉल पर अभ्यास करता है।\n",
            "\n",
            "[40450 rows x 2 columns]\n"
          ]
        }
      ],
      "source": [
        "print(df_hindi)"
      ]
    },
    {
      "cell_type": "markdown",
      "metadata": {
        "id": "P1te5ZVgPsBU"
      },
      "source": [
        " ## Firstly add .jpg in hindi dataset image column"
      ]
    },
    {
      "cell_type": "code",
      "execution_count": null,
      "metadata": {
        "id": "6NGcnOuvFvZ6"
      },
      "outputs": [],
      "source": [
        "# Add '.jpg' to the 'image' column\n",
        "df_hindi['image'] = df_hindi['image'] + '.jpg'"
      ]
    },
    {
      "cell_type": "code",
      "execution_count": null,
      "metadata": {
        "colab": {
          "base_uri": "https://localhost:8080/",
          "height": 423
        },
        "id": "4DYJ2fm4K1PJ",
        "outputId": "8c07e833-5f31-4463-ecb6-b88df3e6012a"
      },
      "outputs": [
        {
          "output_type": "execute_result",
          "data": {
            "text/plain": [
              "                           image                                                                                caption\n",
              "0      1000268201_693b08cb0e.jpg       गुलाबी पोशाक में एक बच्चा प्रवेश के रास्ते में सीढ़ियों के एक सेट पर चढ़ रहा है।\n",
              "1      1000268201_693b08cb0e.jpg                                                 एक लड़की लकड़ी की इमारत में जा रही है।\n",
              "2      1000268201_693b08cb0e.jpg                                            एक छोटी लड़की लकड़ी के प्लेहाउस में चढ़ गई।\n",
              "3      1000268201_693b08cb0e.jpg                                एक छोटी सी लड़की अपने प्लेहाउस में सीढ़ियाँ चढ़ रही थी।\n",
              "4      1000268201_693b08cb0e.jpg                     एक गुलाबी पोशाक में एक छोटी लड़की एक लकड़ी के केबिन में जा रही है।\n",
              "...                          ...                                                                                    ...\n",
              "40445   997722733_0cb5439472.jpg                                    एक गुलाबी शर्ट में एक आदमी एक रॉक चेहरे पर चढ़ता है\n",
              "40446   997722733_0cb5439472.jpg                                                  एक आदमी हवा में ऊंची चढ़ाई कर रहा है।\n",
              "40447   997722733_0cb5439472.jpg  एक लाल रंग की शर्ट में एक व्यक्ति असिस्ट हैंडल में ढंके हुए एक चट्टान के ऊपर चढ़ गया।\n",
              "40448   997722733_0cb5439472.jpg                                                          लाल शर्ट में एक रॉक क्लाइंबर।\n",
              "40449   997722733_0cb5439472.jpg                                 रॉक क्लाइम्बर्स रॉक क्लाइम्बिंग वॉल पर अभ्यास करता है।\n",
              "\n",
              "[40450 rows x 2 columns]"
            ],
            "text/html": [
              "\n",
              "  <div id=\"df-7e3cf3a3-0b7f-4341-ad19-2da0f4d99dfb\" class=\"colab-df-container\">\n",
              "    <div>\n",
              "<style scoped>\n",
              "    .dataframe tbody tr th:only-of-type {\n",
              "        vertical-align: middle;\n",
              "    }\n",
              "\n",
              "    .dataframe tbody tr th {\n",
              "        vertical-align: top;\n",
              "    }\n",
              "\n",
              "    .dataframe thead th {\n",
              "        text-align: right;\n",
              "    }\n",
              "</style>\n",
              "<table border=\"1\" class=\"dataframe\">\n",
              "  <thead>\n",
              "    <tr style=\"text-align: right;\">\n",
              "      <th></th>\n",
              "      <th>image</th>\n",
              "      <th>caption</th>\n",
              "    </tr>\n",
              "  </thead>\n",
              "  <tbody>\n",
              "    <tr>\n",
              "      <th>0</th>\n",
              "      <td>1000268201_693b08cb0e.jpg</td>\n",
              "      <td>गुलाबी पोशाक में एक बच्चा प्रवेश के रास्ते में सीढ़ियों के एक सेट पर चढ़ रहा है।</td>\n",
              "    </tr>\n",
              "    <tr>\n",
              "      <th>1</th>\n",
              "      <td>1000268201_693b08cb0e.jpg</td>\n",
              "      <td>एक लड़की लकड़ी की इमारत में जा रही है।</td>\n",
              "    </tr>\n",
              "    <tr>\n",
              "      <th>2</th>\n",
              "      <td>1000268201_693b08cb0e.jpg</td>\n",
              "      <td>एक छोटी लड़की लकड़ी के प्लेहाउस में चढ़ गई।</td>\n",
              "    </tr>\n",
              "    <tr>\n",
              "      <th>3</th>\n",
              "      <td>1000268201_693b08cb0e.jpg</td>\n",
              "      <td>एक छोटी सी लड़की अपने प्लेहाउस में सीढ़ियाँ चढ़ रही थी।</td>\n",
              "    </tr>\n",
              "    <tr>\n",
              "      <th>4</th>\n",
              "      <td>1000268201_693b08cb0e.jpg</td>\n",
              "      <td>एक गुलाबी पोशाक में एक छोटी लड़की एक लकड़ी के केबिन में जा रही है।</td>\n",
              "    </tr>\n",
              "    <tr>\n",
              "      <th>...</th>\n",
              "      <td>...</td>\n",
              "      <td>...</td>\n",
              "    </tr>\n",
              "    <tr>\n",
              "      <th>40445</th>\n",
              "      <td>997722733_0cb5439472.jpg</td>\n",
              "      <td>एक गुलाबी शर्ट में एक आदमी एक रॉक चेहरे पर चढ़ता है</td>\n",
              "    </tr>\n",
              "    <tr>\n",
              "      <th>40446</th>\n",
              "      <td>997722733_0cb5439472.jpg</td>\n",
              "      <td>एक आदमी हवा में ऊंची चढ़ाई कर रहा है।</td>\n",
              "    </tr>\n",
              "    <tr>\n",
              "      <th>40447</th>\n",
              "      <td>997722733_0cb5439472.jpg</td>\n",
              "      <td>एक लाल रंग की शर्ट में एक व्यक्ति असिस्ट हैंडल में ढंके हुए एक चट्टान के ऊपर चढ़ गया।</td>\n",
              "    </tr>\n",
              "    <tr>\n",
              "      <th>40448</th>\n",
              "      <td>997722733_0cb5439472.jpg</td>\n",
              "      <td>लाल शर्ट में एक रॉक क्लाइंबर।</td>\n",
              "    </tr>\n",
              "    <tr>\n",
              "      <th>40449</th>\n",
              "      <td>997722733_0cb5439472.jpg</td>\n",
              "      <td>रॉक क्लाइम्बर्स रॉक क्लाइम्बिंग वॉल पर अभ्यास करता है।</td>\n",
              "    </tr>\n",
              "  </tbody>\n",
              "</table>\n",
              "<p>40450 rows × 2 columns</p>\n",
              "</div>\n",
              "    <div class=\"colab-df-buttons\">\n",
              "\n",
              "  <div class=\"colab-df-container\">\n",
              "    <button class=\"colab-df-convert\" onclick=\"convertToInteractive('df-7e3cf3a3-0b7f-4341-ad19-2da0f4d99dfb')\"\n",
              "            title=\"Convert this dataframe to an interactive table.\"\n",
              "            style=\"display:none;\">\n",
              "\n",
              "  <svg xmlns=\"http://www.w3.org/2000/svg\" height=\"24px\" viewBox=\"0 -960 960 960\">\n",
              "    <path d=\"M120-120v-720h720v720H120Zm60-500h600v-160H180v160Zm220 220h160v-160H400v160Zm0 220h160v-160H400v160ZM180-400h160v-160H180v160Zm440 0h160v-160H620v160ZM180-180h160v-160H180v160Zm440 0h160v-160H620v160Z\"/>\n",
              "  </svg>\n",
              "    </button>\n",
              "\n",
              "  <style>\n",
              "    .colab-df-container {\n",
              "      display:flex;\n",
              "      gap: 12px;\n",
              "    }\n",
              "\n",
              "    .colab-df-convert {\n",
              "      background-color: #E8F0FE;\n",
              "      border: none;\n",
              "      border-radius: 50%;\n",
              "      cursor: pointer;\n",
              "      display: none;\n",
              "      fill: #1967D2;\n",
              "      height: 32px;\n",
              "      padding: 0 0 0 0;\n",
              "      width: 32px;\n",
              "    }\n",
              "\n",
              "    .colab-df-convert:hover {\n",
              "      background-color: #E2EBFA;\n",
              "      box-shadow: 0px 1px 2px rgba(60, 64, 67, 0.3), 0px 1px 3px 1px rgba(60, 64, 67, 0.15);\n",
              "      fill: #174EA6;\n",
              "    }\n",
              "\n",
              "    .colab-df-buttons div {\n",
              "      margin-bottom: 4px;\n",
              "    }\n",
              "\n",
              "    [theme=dark] .colab-df-convert {\n",
              "      background-color: #3B4455;\n",
              "      fill: #D2E3FC;\n",
              "    }\n",
              "\n",
              "    [theme=dark] .colab-df-convert:hover {\n",
              "      background-color: #434B5C;\n",
              "      box-shadow: 0px 1px 3px 1px rgba(0, 0, 0, 0.15);\n",
              "      filter: drop-shadow(0px 1px 2px rgba(0, 0, 0, 0.3));\n",
              "      fill: #FFFFFF;\n",
              "    }\n",
              "  </style>\n",
              "\n",
              "    <script>\n",
              "      const buttonEl =\n",
              "        document.querySelector('#df-7e3cf3a3-0b7f-4341-ad19-2da0f4d99dfb button.colab-df-convert');\n",
              "      buttonEl.style.display =\n",
              "        google.colab.kernel.accessAllowed ? 'block' : 'none';\n",
              "\n",
              "      async function convertToInteractive(key) {\n",
              "        const element = document.querySelector('#df-7e3cf3a3-0b7f-4341-ad19-2da0f4d99dfb');\n",
              "        const dataTable =\n",
              "          await google.colab.kernel.invokeFunction('convertToInteractive',\n",
              "                                                    [key], {});\n",
              "        if (!dataTable) return;\n",
              "\n",
              "        const docLinkHtml = 'Like what you see? Visit the ' +\n",
              "          '<a target=\"_blank\" href=https://colab.research.google.com/notebooks/data_table.ipynb>data table notebook</a>'\n",
              "          + ' to learn more about interactive tables.';\n",
              "        element.innerHTML = '';\n",
              "        dataTable['output_type'] = 'display_data';\n",
              "        await google.colab.output.renderOutput(dataTable, element);\n",
              "        const docLink = document.createElement('div');\n",
              "        docLink.innerHTML = docLinkHtml;\n",
              "        element.appendChild(docLink);\n",
              "      }\n",
              "    </script>\n",
              "  </div>\n",
              "\n",
              "\n",
              "<div id=\"df-4f6c3f09-9ca3-477c-944a-9cfbb16b97ba\">\n",
              "  <button class=\"colab-df-quickchart\" onclick=\"quickchart('df-4f6c3f09-9ca3-477c-944a-9cfbb16b97ba')\"\n",
              "            title=\"Suggest charts\"\n",
              "            style=\"display:none;\">\n",
              "\n",
              "<svg xmlns=\"http://www.w3.org/2000/svg\" height=\"24px\"viewBox=\"0 0 24 24\"\n",
              "     width=\"24px\">\n",
              "    <g>\n",
              "        <path d=\"M19 3H5c-1.1 0-2 .9-2 2v14c0 1.1.9 2 2 2h14c1.1 0 2-.9 2-2V5c0-1.1-.9-2-2-2zM9 17H7v-7h2v7zm4 0h-2V7h2v10zm4 0h-2v-4h2v4z\"/>\n",
              "    </g>\n",
              "</svg>\n",
              "  </button>\n",
              "\n",
              "<style>\n",
              "  .colab-df-quickchart {\n",
              "      --bg-color: #E8F0FE;\n",
              "      --fill-color: #1967D2;\n",
              "      --hover-bg-color: #E2EBFA;\n",
              "      --hover-fill-color: #174EA6;\n",
              "      --disabled-fill-color: #AAA;\n",
              "      --disabled-bg-color: #DDD;\n",
              "  }\n",
              "\n",
              "  [theme=dark] .colab-df-quickchart {\n",
              "      --bg-color: #3B4455;\n",
              "      --fill-color: #D2E3FC;\n",
              "      --hover-bg-color: #434B5C;\n",
              "      --hover-fill-color: #FFFFFF;\n",
              "      --disabled-bg-color: #3B4455;\n",
              "      --disabled-fill-color: #666;\n",
              "  }\n",
              "\n",
              "  .colab-df-quickchart {\n",
              "    background-color: var(--bg-color);\n",
              "    border: none;\n",
              "    border-radius: 50%;\n",
              "    cursor: pointer;\n",
              "    display: none;\n",
              "    fill: var(--fill-color);\n",
              "    height: 32px;\n",
              "    padding: 0;\n",
              "    width: 32px;\n",
              "  }\n",
              "\n",
              "  .colab-df-quickchart:hover {\n",
              "    background-color: var(--hover-bg-color);\n",
              "    box-shadow: 0 1px 2px rgba(60, 64, 67, 0.3), 0 1px 3px 1px rgba(60, 64, 67, 0.15);\n",
              "    fill: var(--button-hover-fill-color);\n",
              "  }\n",
              "\n",
              "  .colab-df-quickchart-complete:disabled,\n",
              "  .colab-df-quickchart-complete:disabled:hover {\n",
              "    background-color: var(--disabled-bg-color);\n",
              "    fill: var(--disabled-fill-color);\n",
              "    box-shadow: none;\n",
              "  }\n",
              "\n",
              "  .colab-df-spinner {\n",
              "    border: 2px solid var(--fill-color);\n",
              "    border-color: transparent;\n",
              "    border-bottom-color: var(--fill-color);\n",
              "    animation:\n",
              "      spin 1s steps(1) infinite;\n",
              "  }\n",
              "\n",
              "  @keyframes spin {\n",
              "    0% {\n",
              "      border-color: transparent;\n",
              "      border-bottom-color: var(--fill-color);\n",
              "      border-left-color: var(--fill-color);\n",
              "    }\n",
              "    20% {\n",
              "      border-color: transparent;\n",
              "      border-left-color: var(--fill-color);\n",
              "      border-top-color: var(--fill-color);\n",
              "    }\n",
              "    30% {\n",
              "      border-color: transparent;\n",
              "      border-left-color: var(--fill-color);\n",
              "      border-top-color: var(--fill-color);\n",
              "      border-right-color: var(--fill-color);\n",
              "    }\n",
              "    40% {\n",
              "      border-color: transparent;\n",
              "      border-right-color: var(--fill-color);\n",
              "      border-top-color: var(--fill-color);\n",
              "    }\n",
              "    60% {\n",
              "      border-color: transparent;\n",
              "      border-right-color: var(--fill-color);\n",
              "    }\n",
              "    80% {\n",
              "      border-color: transparent;\n",
              "      border-right-color: var(--fill-color);\n",
              "      border-bottom-color: var(--fill-color);\n",
              "    }\n",
              "    90% {\n",
              "      border-color: transparent;\n",
              "      border-bottom-color: var(--fill-color);\n",
              "    }\n",
              "  }\n",
              "</style>\n",
              "\n",
              "  <script>\n",
              "    async function quickchart(key) {\n",
              "      const quickchartButtonEl =\n",
              "        document.querySelector('#' + key + ' button');\n",
              "      quickchartButtonEl.disabled = true;  // To prevent multiple clicks.\n",
              "      quickchartButtonEl.classList.add('colab-df-spinner');\n",
              "      try {\n",
              "        const charts = await google.colab.kernel.invokeFunction(\n",
              "            'suggestCharts', [key], {});\n",
              "      } catch (error) {\n",
              "        console.error('Error during call to suggestCharts:', error);\n",
              "      }\n",
              "      quickchartButtonEl.classList.remove('colab-df-spinner');\n",
              "      quickchartButtonEl.classList.add('colab-df-quickchart-complete');\n",
              "    }\n",
              "    (() => {\n",
              "      let quickchartButtonEl =\n",
              "        document.querySelector('#df-4f6c3f09-9ca3-477c-944a-9cfbb16b97ba button');\n",
              "      quickchartButtonEl.style.display =\n",
              "        google.colab.kernel.accessAllowed ? 'block' : 'none';\n",
              "    })();\n",
              "  </script>\n",
              "</div>\n",
              "\n",
              "  <div id=\"id_bbcf85ae-aa20-4ae8-91dc-01d5336bd2c5\">\n",
              "    <style>\n",
              "      .colab-df-generate {\n",
              "        background-color: #E8F0FE;\n",
              "        border: none;\n",
              "        border-radius: 50%;\n",
              "        cursor: pointer;\n",
              "        display: none;\n",
              "        fill: #1967D2;\n",
              "        height: 32px;\n",
              "        padding: 0 0 0 0;\n",
              "        width: 32px;\n",
              "      }\n",
              "\n",
              "      .colab-df-generate:hover {\n",
              "        background-color: #E2EBFA;\n",
              "        box-shadow: 0px 1px 2px rgba(60, 64, 67, 0.3), 0px 1px 3px 1px rgba(60, 64, 67, 0.15);\n",
              "        fill: #174EA6;\n",
              "      }\n",
              "\n",
              "      [theme=dark] .colab-df-generate {\n",
              "        background-color: #3B4455;\n",
              "        fill: #D2E3FC;\n",
              "      }\n",
              "\n",
              "      [theme=dark] .colab-df-generate:hover {\n",
              "        background-color: #434B5C;\n",
              "        box-shadow: 0px 1px 3px 1px rgba(0, 0, 0, 0.15);\n",
              "        filter: drop-shadow(0px 1px 2px rgba(0, 0, 0, 0.3));\n",
              "        fill: #FFFFFF;\n",
              "      }\n",
              "    </style>\n",
              "    <button class=\"colab-df-generate\" onclick=\"generateWithVariable('df_hindi')\"\n",
              "            title=\"Generate code using this dataframe.\"\n",
              "            style=\"display:none;\">\n",
              "\n",
              "  <svg xmlns=\"http://www.w3.org/2000/svg\" height=\"24px\"viewBox=\"0 0 24 24\"\n",
              "       width=\"24px\">\n",
              "    <path d=\"M7,19H8.4L18.45,9,17,7.55,7,17.6ZM5,21V16.75L18.45,3.32a2,2,0,0,1,2.83,0l1.4,1.43a1.91,1.91,0,0,1,.58,1.4,1.91,1.91,0,0,1-.58,1.4L9.25,21ZM18.45,9,17,7.55Zm-12,3A5.31,5.31,0,0,0,4.9,8.1,5.31,5.31,0,0,0,1,6.5,5.31,5.31,0,0,0,4.9,4.9,5.31,5.31,0,0,0,6.5,1,5.31,5.31,0,0,0,8.1,4.9,5.31,5.31,0,0,0,12,6.5,5.46,5.46,0,0,0,6.5,12Z\"/>\n",
              "  </svg>\n",
              "    </button>\n",
              "    <script>\n",
              "      (() => {\n",
              "      const buttonEl =\n",
              "        document.querySelector('#id_bbcf85ae-aa20-4ae8-91dc-01d5336bd2c5 button.colab-df-generate');\n",
              "      buttonEl.style.display =\n",
              "        google.colab.kernel.accessAllowed ? 'block' : 'none';\n",
              "\n",
              "      buttonEl.onclick = () => {\n",
              "        google.colab.notebook.generateWithVariable('df_hindi');\n",
              "      }\n",
              "      })();\n",
              "    </script>\n",
              "  </div>\n",
              "\n",
              "    </div>\n",
              "  </div>\n"
            ],
            "application/vnd.google.colaboratory.intrinsic+json": {
              "type": "dataframe",
              "variable_name": "df_hindi",
              "summary": "{\n  \"name\": \"df_hindi\",\n  \"rows\": 40450,\n  \"fields\": [\n    {\n      \"column\": \"image\",\n      \"properties\": {\n        \"dtype\": \"category\",\n        \"num_unique_values\": 8090,\n        \"samples\": [\n          \"3141293960_74459f0a24.jpg\",\n          \"3134092148_151154139a.jpg\",\n          \"2449289139_08fc1092c1.jpg\"\n        ],\n        \"semantic_type\": \"\",\n        \"description\": \"\"\n      }\n    },\n    {\n      \"column\": \"caption\",\n      \"properties\": {\n        \"dtype\": \"string\",\n        \"num_unique_values\": 40069,\n        \"samples\": [\n          \"\\u090f\\u0915 \\u0938\\u094d\\u0928\\u094b\\u092c\\u094b\\u0930\\u094d\\u0921\\u0930 \\u090f\\u0915 \\u092c\\u0948\\u0930\\u0932 \\u092a\\u0930 \\u0915\\u0942\\u0926\\u0924\\u093e \\u0939\\u0948\\u0964\",\n          \"\\u090f\\u0915 \\u0935\\u094d\\u092f\\u0915\\u094d\\u0924\\u093f \\u090f\\u0915 \\u092e\\u094b\\u091f\\u0930\\u0938\\u093e\\u0907\\u0915\\u093f\\u0932 \\u092a\\u0930 \\u090f\\u0915 \\u091a\\u091f\\u094d\\u091f\\u093e\\u0928 \\u0938\\u0947 \\u090f\\u0915 \\u092a\\u0939\\u093f\\u092f\\u093e \\u0928\\u093f\\u0915\\u093e\\u0932\\u0924\\u093e \\u0939\\u0948\\u0964\",\n          \"\\u090f\\u0915 \\u0914\\u0930 \\u092a\\u094d\\u0932\\u093e\\u0938\\u094d\\u091f\\u093f\\u0915 \\u0915\\u0947 \\u091c\\u094b\\u0915\\u0930 \\u0915\\u0947 \\u092c\\u0917\\u0932 \\u092e\\u0947\\u0902 \\u092c\\u0948\\u0932\\u0942\\u0928 \\u0915\\u0947 \\u0938\\u093e\\u0925 \\u0924\\u0940\\u0928 \\u0930\\u0902\\u0917\\u0940\\u0928 \\u091c\\u094b\\u0915\\u0930\\u0964\"\n        ],\n        \"semantic_type\": \"\",\n        \"description\": \"\"\n      }\n    }\n  ]\n}"
            }
          },
          "metadata": {},
          "execution_count": 17
        }
      ],
      "source": [
        "df_hindi"
      ]
    },
    {
      "cell_type": "markdown",
      "metadata": {
        "id": "xOKPzjTWPlsi"
      },
      "source": [
        "## Compare the 'image' columns of df_hindi and df_english to find missing values in df_hindi"
      ]
    },
    {
      "cell_type": "code",
      "execution_count": null,
      "metadata": {
        "colab": {
          "base_uri": "https://localhost:8080/"
        },
        "id": "FxlwT-4wK3qQ",
        "outputId": "c50258da-7c82-4a5a-a19f-af5a41ddd7a9"
      },
      "outputs": [
        {
          "output_type": "stream",
          "name": "stdout",
          "text": [
            "Images missing in Hindi dataset:\n",
            "145721498_a27d2db576.jpg\n",
            "\n",
            "Total missing images: 1\n",
            "\n",
            "No extra images in Hindi dataset.\n",
            "\n",
            "Total English captions: 40455\n",
            "Total Hindi captions: 40450\n",
            "Difference: 5\n",
            "\n",
            "English captions for the missing images:\n",
            "                         image                                                 caption\n",
            "2430  145721498_a27d2db576.jpg      A man in a blue canoe battling through rough waves\n",
            "2431  145721498_a27d2db576.jpg                      A man kayaks through rough water .\n",
            "2432  145721498_a27d2db576.jpg    A man rows a blue kayak through white water rapids .\n",
            "2433  145721498_a27d2db576.jpg               Man paddling in blue kayak in the water .\n",
            "2434  145721498_a27d2db576.jpg  The kayaker braces himself as he goes down the river .\n"
          ]
        }
      ],
      "source": [
        "# Get unique image names from both datasets\n",
        "english_images = set(df_english['image'].unique())\n",
        "hindi_images = set(df_hindi['image'].unique())\n",
        "\n",
        "# Find missing images in Hindi dataset\n",
        "missing_images = english_images - hindi_images\n",
        "\n",
        "if missing_images:\n",
        "    print(\"Images missing in Hindi dataset:\")\n",
        "    for img in missing_images:\n",
        "        print(img)\n",
        "    print(f\"\\nTotal missing images: {len(missing_images)}\")\n",
        "else:\n",
        "    print(\"No images are missing in the Hindi dataset.\")\n",
        "\n",
        "# Check if there are any images in Hindi dataset not present in English dataset\n",
        "extra_images_hindi = hindi_images - english_images\n",
        "if extra_images_hindi:\n",
        "    print(\"\\nImages in Hindi dataset not present in English dataset:\")\n",
        "    for img in extra_images_hindi:\n",
        "        print(img)\n",
        "    print(f\"\\nTotal extra images in Hindi dataset: {len(extra_images_hindi)}\")\n",
        "else:\n",
        "    print(\"\\nNo extra images in Hindi dataset.\")\n",
        "\n",
        "# Verify the count of captions\n",
        "print(f\"\\nTotal English captions: {len(df_english)}\")\n",
        "print(f\"Total Hindi captions: {len(df_hindi)}\")\n",
        "print(f\"Difference: {len(df_english) - len(df_hindi)}\")\n",
        "\n",
        "# If there are missing images, show their English captions\n",
        "if missing_images:\n",
        "    print(\"\\nEnglish captions for the missing images:\")\n",
        "    missing_captions = df_english[df_english['image'].isin(missing_images)]\n",
        "    print(missing_captions)\n"
      ]
    },
    {
      "cell_type": "code",
      "execution_count": null,
      "metadata": {
        "colab": {
          "base_uri": "https://localhost:8080/"
        },
        "id": "L41Q5hebQYrU",
        "outputId": "ced5f5b5-5aef-44e9-f463-835a81f47263"
      },
      "outputs": [
        {
          "output_type": "stream",
          "name": "stdout",
          "text": [
            "Total English captions after removal: 40450\n",
            "Total Hindi captions: 40450\n",
            "Difference: 0\n",
            "\n",
            "The image 145721498_a27d2db576.jpg has been successfully removed from df_english.\n"
          ]
        }
      ],
      "source": [
        "# Identify the image to be removed\n",
        "image_to_remove = '145721498_a27d2db576.jpg'\n",
        "\n",
        "# Remove rows with the identified image\n",
        "df_english = df_english[df_english['image'] != image_to_remove]\n",
        "\n",
        "# Reset the index of df_english\n",
        "df_english = df_english.reset_index(drop=True)\n",
        "\n",
        "# Verify the removal\n",
        "print(f\"Total English captions after removal: {len(df_english)}\")\n",
        "print(f\"Total Hindi captions: {len(df_hindi)}\")\n",
        "print(f\"Difference: {len(df_english) - len(df_hindi)}\")\n",
        "\n",
        "# Check if the image has been removed\n",
        "if image_to_remove not in df_english['image'].values:\n",
        "    print(f\"\\nThe image {image_to_remove} has been successfully removed from df_english.\")\n",
        "else:\n",
        "    print(f\"\\nError: The image {image_to_remove} is still present in df_english.\")\n",
        "\n",
        "# Optional: Save the updated df_english to a new CSV file if needed\n",
        "# df_english.to_csv(\"/content/drive/MyDrive/final_project/updated_english_captions.txt\", index=False)\n"
      ]
    },
    {
      "cell_type": "code",
      "execution_count": null,
      "metadata": {
        "colab": {
          "base_uri": "https://localhost:8080/"
        },
        "id": "2sNsbp8nBi4p",
        "outputId": "f85bf342-98c4-4174-a8bd-0de19afafc13"
      },
      "outputs": [
        {
          "output_type": "stream",
          "name": "stdout",
          "text": [
            "                                                                    caption\n",
            "0  A child in a pink dress is climbing up a set of stairs in an entry way .\n",
            "1                                     A girl going into a wooden building .\n",
            "2                          A little girl climbing into a wooden playhouse .\n",
            "3                      A little girl climbing the stairs to her playhouse .\n",
            "4                 A little girl in a pink dress going into a wooden cabin .\n",
            "                                                                            caption\n",
            "0  गुलाबी पोशाक में एक बच्चा प्रवेश के रास्ते में सीढ़ियों के एक सेट पर चढ़ रहा है।\n",
            "1                                            एक लड़की लकड़ी की इमारत में जा रही है।\n",
            "2                                       एक छोटी लड़की लकड़ी के प्लेहाउस में चढ़ गई।\n",
            "3                           एक छोटी सी लड़की अपने प्लेहाउस में सीढ़ियाँ चढ़ रही थी।\n",
            "4                एक गुलाबी पोशाक में एक छोटी लड़की एक लकड़ी के केबिन में जा रही है।\n"
          ]
        }
      ],
      "source": [
        "# Drop the 'image' column\n",
        "w1 = df_english.drop('image', axis=1)\n",
        "w2 = df_hindi.drop('image', axis=1)\n",
        "print(w1[:5])\n",
        "print(w2[:5])"
      ]
    },
    {
      "cell_type": "markdown",
      "metadata": {
        "id": "gi_68PGYC6F2"
      },
      "source": [
        "\n",
        "Once we have loaded the dataset, we preprocess the data as follows:\n",
        "\n",
        "Add a start and end token to each sentence.\n",
        "\n",
        "Clean the sentences by removing special characters.\n",
        "\n",
        "Create a word index and reverse word index (dictionaries mapping from word → id and id → word).\n",
        "\n",
        "Pad each sentence to a maximum length."
      ]
    },
    {
      "cell_type": "code",
      "execution_count": null,
      "metadata": {
        "colab": {
          "base_uri": "https://localhost:8080/"
        },
        "id": "HHSR2wDaFvfr",
        "outputId": "1cb3c095-278b-4f9b-df1e-088db9b7fc1a"
      },
      "outputs": [
        {
          "output_type": "stream",
          "name": "stdout",
          "text": [
            "<class 'pandas.core.frame.DataFrame'>\n",
            "<class 'pandas.core.frame.DataFrame'>\n"
          ]
        }
      ],
      "source": [
        "print(type(w1))\n",
        "print(type(w2))"
      ]
    },
    {
      "cell_type": "code",
      "execution_count": null,
      "metadata": {
        "id": "-MYfRXgjCmPx"
      },
      "outputs": [],
      "source": [
        "# Restrict the total number of sentences to 70000\n",
        "NUM_SENTENCES = 10000"
      ]
    },
    {
      "cell_type": "code",
      "execution_count": null,
      "metadata": {
        "colab": {
          "base_uri": "https://localhost:8080/"
        },
        "id": "gaWUgLX9Eahk",
        "outputId": "2c44dfb5-2192-4769-e7ce-513ba8ebe22d"
      },
      "outputs": [
        {
          "output_type": "stream",
          "name": "stdout",
          "text": [
            "Collecting indic-nlp-library\n",
            "  Downloading indic_nlp_library-0.92-py3-none-any.whl.metadata (5.7 kB)\n",
            "Collecting sphinx-argparse (from indic-nlp-library)\n",
            "  Downloading sphinx_argparse-0.5.2-py3-none-any.whl.metadata (3.7 kB)\n",
            "Collecting sphinx-rtd-theme (from indic-nlp-library)\n",
            "  Downloading sphinx_rtd_theme-2.0.0-py2.py3-none-any.whl.metadata (4.4 kB)\n",
            "Collecting morfessor (from indic-nlp-library)\n",
            "  Downloading Morfessor-2.0.6-py3-none-any.whl.metadata (628 bytes)\n",
            "Requirement already satisfied: pandas in /usr/local/lib/python3.10/dist-packages (from indic-nlp-library) (2.1.4)\n",
            "Requirement already satisfied: numpy in /usr/local/lib/python3.10/dist-packages (from indic-nlp-library) (1.26.4)\n",
            "Requirement already satisfied: python-dateutil>=2.8.2 in /usr/local/lib/python3.10/dist-packages (from pandas->indic-nlp-library) (2.8.2)\n",
            "Requirement already satisfied: pytz>=2020.1 in /usr/local/lib/python3.10/dist-packages (from pandas->indic-nlp-library) (2024.1)\n",
            "Requirement already satisfied: tzdata>=2022.1 in /usr/local/lib/python3.10/dist-packages (from pandas->indic-nlp-library) (2024.1)\n",
            "Collecting sphinx>=5.1.0 (from sphinx-argparse->indic-nlp-library)\n",
            "  Downloading sphinx-8.0.2-py3-none-any.whl.metadata (6.2 kB)\n",
            "Collecting docutils>=0.19 (from sphinx-argparse->indic-nlp-library)\n",
            "  Downloading docutils-0.21.2-py3-none-any.whl.metadata (2.8 kB)\n",
            "Collecting sphinx>=5.1.0 (from sphinx-argparse->indic-nlp-library)\n",
            "  Downloading sphinx-7.4.7-py3-none-any.whl.metadata (6.1 kB)\n",
            "Collecting docutils>=0.19 (from sphinx-argparse->indic-nlp-library)\n",
            "  Downloading docutils-0.20.1-py3-none-any.whl.metadata (2.8 kB)\n",
            "Collecting sphinxcontrib-jquery<5,>=4 (from sphinx-rtd-theme->indic-nlp-library)\n",
            "  Downloading sphinxcontrib_jquery-4.1-py2.py3-none-any.whl.metadata (2.6 kB)\n",
            "Requirement already satisfied: six>=1.5 in /usr/local/lib/python3.10/dist-packages (from python-dateutil>=2.8.2->pandas->indic-nlp-library) (1.16.0)\n",
            "Requirement already satisfied: sphinxcontrib-applehelp in /usr/local/lib/python3.10/dist-packages (from sphinx>=5.1.0->sphinx-argparse->indic-nlp-library) (2.0.0)\n",
            "Requirement already satisfied: sphinxcontrib-devhelp in /usr/local/lib/python3.10/dist-packages (from sphinx>=5.1.0->sphinx-argparse->indic-nlp-library) (2.0.0)\n",
            "Requirement already satisfied: sphinxcontrib-jsmath in /usr/local/lib/python3.10/dist-packages (from sphinx>=5.1.0->sphinx-argparse->indic-nlp-library) (1.0.1)\n",
            "Requirement already satisfied: sphinxcontrib-htmlhelp>=2.0.0 in /usr/local/lib/python3.10/dist-packages (from sphinx>=5.1.0->sphinx-argparse->indic-nlp-library) (2.1.0)\n",
            "Requirement already satisfied: sphinxcontrib-serializinghtml>=1.1.9 in /usr/local/lib/python3.10/dist-packages (from sphinx>=5.1.0->sphinx-argparse->indic-nlp-library) (2.0.0)\n",
            "Requirement already satisfied: sphinxcontrib-qthelp in /usr/local/lib/python3.10/dist-packages (from sphinx>=5.1.0->sphinx-argparse->indic-nlp-library) (2.0.0)\n",
            "Requirement already satisfied: Jinja2>=3.1 in /usr/local/lib/python3.10/dist-packages (from sphinx>=5.1.0->sphinx-argparse->indic-nlp-library) (3.1.4)\n",
            "Collecting Pygments>=2.17 (from sphinx>=5.1.0->sphinx-argparse->indic-nlp-library)\n",
            "  Downloading pygments-2.18.0-py3-none-any.whl.metadata (2.5 kB)\n",
            "Requirement already satisfied: snowballstemmer>=2.2 in /usr/local/lib/python3.10/dist-packages (from sphinx>=5.1.0->sphinx-argparse->indic-nlp-library) (2.2.0)\n",
            "Requirement already satisfied: babel>=2.13 in /usr/local/lib/python3.10/dist-packages (from sphinx>=5.1.0->sphinx-argparse->indic-nlp-library) (2.16.0)\n",
            "Requirement already satisfied: alabaster~=0.7.14 in /usr/local/lib/python3.10/dist-packages (from sphinx>=5.1.0->sphinx-argparse->indic-nlp-library) (0.7.16)\n",
            "Requirement already satisfied: imagesize>=1.3 in /usr/local/lib/python3.10/dist-packages (from sphinx>=5.1.0->sphinx-argparse->indic-nlp-library) (1.4.1)\n",
            "Requirement already satisfied: requests>=2.30.0 in /usr/local/lib/python3.10/dist-packages (from sphinx>=5.1.0->sphinx-argparse->indic-nlp-library) (2.32.3)\n",
            "Requirement already satisfied: packaging>=23.0 in /usr/local/lib/python3.10/dist-packages (from sphinx>=5.1.0->sphinx-argparse->indic-nlp-library) (24.1)\n",
            "Requirement already satisfied: tomli>=2 in /usr/local/lib/python3.10/dist-packages (from sphinx>=5.1.0->sphinx-argparse->indic-nlp-library) (2.0.1)\n",
            "Requirement already satisfied: MarkupSafe>=2.0 in /usr/local/lib/python3.10/dist-packages (from Jinja2>=3.1->sphinx>=5.1.0->sphinx-argparse->indic-nlp-library) (2.1.5)\n",
            "Requirement already satisfied: charset-normalizer<4,>=2 in /usr/local/lib/python3.10/dist-packages (from requests>=2.30.0->sphinx>=5.1.0->sphinx-argparse->indic-nlp-library) (3.3.2)\n",
            "Requirement already satisfied: idna<4,>=2.5 in /usr/local/lib/python3.10/dist-packages (from requests>=2.30.0->sphinx>=5.1.0->sphinx-argparse->indic-nlp-library) (3.8)\n",
            "Requirement already satisfied: urllib3<3,>=1.21.1 in /usr/local/lib/python3.10/dist-packages (from requests>=2.30.0->sphinx>=5.1.0->sphinx-argparse->indic-nlp-library) (2.0.7)\n",
            "Requirement already satisfied: certifi>=2017.4.17 in /usr/local/lib/python3.10/dist-packages (from requests>=2.30.0->sphinx>=5.1.0->sphinx-argparse->indic-nlp-library) (2024.7.4)\n",
            "Downloading indic_nlp_library-0.92-py3-none-any.whl (40 kB)\n",
            "\u001b[2K   \u001b[90m━━━━━━━━━━━━━━━━━━━━━━━━━━━━━━━━━━━━━━━━\u001b[0m \u001b[32m40.3/40.3 kB\u001b[0m \u001b[31m2.1 MB/s\u001b[0m eta \u001b[36m0:00:00\u001b[0m\n",
            "\u001b[?25hDownloading Morfessor-2.0.6-py3-none-any.whl (35 kB)\n",
            "Downloading sphinx_argparse-0.5.2-py3-none-any.whl (12 kB)\n",
            "Downloading sphinx_rtd_theme-2.0.0-py2.py3-none-any.whl (2.8 MB)\n",
            "\u001b[2K   \u001b[90m━━━━━━━━━━━━━━━━━━━━━━━━━━━━━━━━━━━━━━━━\u001b[0m \u001b[32m2.8/2.8 MB\u001b[0m \u001b[31m67.5 MB/s\u001b[0m eta \u001b[36m0:00:00\u001b[0m\n",
            "\u001b[?25hDownloading docutils-0.20.1-py3-none-any.whl (572 kB)\n",
            "\u001b[2K   \u001b[90m━━━━━━━━━━━━━━━━━━━━━━━━━━━━━━━━━━━━━━━━\u001b[0m \u001b[32m572.7/572.7 kB\u001b[0m \u001b[31m30.8 MB/s\u001b[0m eta \u001b[36m0:00:00\u001b[0m\n",
            "\u001b[?25hDownloading sphinx-7.4.7-py3-none-any.whl (3.4 MB)\n",
            "\u001b[2K   \u001b[90m━━━━━━━━━━━━━━━━━━━━━━━━━━━━━━━━━━━━━━━━\u001b[0m \u001b[32m3.4/3.4 MB\u001b[0m \u001b[31m62.3 MB/s\u001b[0m eta \u001b[36m0:00:00\u001b[0m\n",
            "\u001b[?25hDownloading sphinxcontrib_jquery-4.1-py2.py3-none-any.whl (121 kB)\n",
            "\u001b[2K   \u001b[90m━━━━━━━━━━━━━━━━━━━━━━━━━━━━━━━━━━━━━━━━\u001b[0m \u001b[32m121.1/121.1 kB\u001b[0m \u001b[31m6.5 MB/s\u001b[0m eta \u001b[36m0:00:00\u001b[0m\n",
            "\u001b[?25hDownloading pygments-2.18.0-py3-none-any.whl (1.2 MB)\n",
            "\u001b[2K   \u001b[90m━━━━━━━━━━━━━━━━━━━━━━━━━━━━━━━━━━━━━━━━\u001b[0m \u001b[32m1.2/1.2 MB\u001b[0m \u001b[31m50.8 MB/s\u001b[0m eta \u001b[36m0:00:00\u001b[0m\n",
            "\u001b[?25hInstalling collected packages: morfessor, Pygments, docutils, sphinx, sphinxcontrib-jquery, sphinx-argparse, sphinx-rtd-theme, indic-nlp-library\n",
            "  Attempting uninstall: Pygments\n",
            "    Found existing installation: Pygments 2.16.1\n",
            "    Uninstalling Pygments-2.16.1:\n",
            "      Successfully uninstalled Pygments-2.16.1\n",
            "  Attempting uninstall: docutils\n",
            "    Found existing installation: docutils 0.18.1\n",
            "    Uninstalling docutils-0.18.1:\n",
            "      Successfully uninstalled docutils-0.18.1\n",
            "  Attempting uninstall: sphinx\n",
            "    Found existing installation: Sphinx 5.0.2\n",
            "    Uninstalling Sphinx-5.0.2:\n",
            "      Successfully uninstalled Sphinx-5.0.2\n",
            "\u001b[31mERROR: pip's dependency resolver does not currently take into account all the packages that are installed. This behaviour is the source of the following dependency conflicts.\n",
            "ipython 7.34.0 requires jedi>=0.16, which is not installed.\u001b[0m\u001b[31m\n",
            "\u001b[0mSuccessfully installed Pygments-2.18.0 docutils-0.20.1 indic-nlp-library-0.92 morfessor-2.0.6 sphinx-7.4.7 sphinx-argparse-0.5.2 sphinx-rtd-theme-2.0.0 sphinxcontrib-jquery-4.1\n"
          ]
        }
      ],
      "source": [
        "!pip install indic-nlp-library"
      ]
    },
    {
      "cell_type": "code",
      "execution_count": null,
      "metadata": {
        "colab": {
          "base_uri": "https://localhost:8080/"
        },
        "id": "b5NQ-5I4DG3s",
        "outputId": "a6e09396-5ea9-499e-c03a-2b21de1fefc0"
      },
      "outputs": [
        {
          "output_type": "stream",
          "name": "stdout",
          "text": [
            "<class 'str'>\n",
            "<class 'list'>\n"
          ]
        }
      ],
      "source": [
        "from indicnlp.tokenize import indic_tokenize\n",
        "\n",
        "# Define the number of sentences to process (you can adjust this as needed)\n",
        "NUM_SENTENCES = 10000\n",
        "\n",
        "# Initialize lists to hold the cleaned and tokenized sentences\n",
        "input_sentences = []\n",
        "output_sentences = []\n",
        "\n",
        "# Process the English input sentences from w1\n",
        "for i, row in w1.iterrows():\n",
        "    if i >= NUM_SENTENCES:\n",
        "        break\n",
        "    input_sentence = row['caption'].strip().strip(\"\\n\").strip('-')  # Strip unnecessary characters\n",
        "    input_sentences.append(input_sentence)\n",
        "\n",
        "# Process the Hindi output sentences from w2\n",
        "for i, row in w2.iterrows():\n",
        "    if i >= NUM_SENTENCES:\n",
        "        break\n",
        "    output_sentence = row['caption'].strip().strip(\"\\n\").strip('-')\n",
        "    tokenized_sentence = indic_tokenize.trivial_tokenize(output_sentence)  # Tokenize Hindi sentences\n",
        "    output_sentences.append(['<sos>'] + tokenized_sentence + ['<eos>'])  # Add <sos> and <eos> tags\n",
        "\n",
        "# Print the type of a sample entry to verify\n",
        "print(type(input_sentences[10]))  # Expected: <class 'str'>\n",
        "print(type(output_sentences[10]))  # Expected: <class 'list'>\n"
      ]
    },
    {
      "cell_type": "code",
      "execution_count": null,
      "metadata": {
        "colab": {
          "base_uri": "https://localhost:8080/"
        },
        "id": "9VHgs2c_ECzL",
        "outputId": "2a576111-5f65-4f82-eca3-1d161219a78f"
      },
      "outputs": [
        {
          "output_type": "stream",
          "name": "stdout",
          "text": [
            "num samples input: 10000\n",
            "num samples output: 10000\n"
          ]
        }
      ],
      "source": [
        "print(\"num samples input:\", len(input_sentences))\n",
        "print(\"num samples output:\", len(output_sentences))"
      ]
    },
    {
      "cell_type": "code",
      "execution_count": null,
      "metadata": {
        "colab": {
          "base_uri": "https://localhost:8080/"
        },
        "id": "BG61iS5rE6VX",
        "outputId": "28848de7-f907-4e7f-8045-fa185ce8f0af"
      },
      "outputs": [
        {
          "output_type": "stream",
          "name": "stdout",
          "text": [
            "The boy is playing with a colorful ribbon .\n",
            "['<sos>', 'लड़का', 'एक', 'रंगीन', 'रिबन', 'के', 'साथ', 'खेल', 'रहा', 'है', '।', '<eos>']\n"
          ]
        }
      ],
      "source": [
        "print(input_sentences[-1])\n",
        "print(output_sentences[-1])"
      ]
    },
    {
      "cell_type": "code",
      "execution_count": null,
      "metadata": {
        "id": "XZxkp8W5J8wZ"
      },
      "outputs": [],
      "source": [
        "# Converts the unicode file to ascii\n",
        "# Since the model is dealing with multilingual text so it will be important to standardize the input text.\n",
        "# Unicode normalization splits accented characters and replace compatibility characters with their ASCII equivalents.\n",
        "# https://bit.ly/2TnLffX\n",
        "import unicodedata\n",
        "import re\n",
        "def unicode_to_ascii(s):\n",
        "  return ''.join(c for c in unicodedata.normalize('NFD', s)\n",
        "      if unicodedata.category(c) != 'Mn')\n",
        "\n",
        "\n",
        "def preprocess_sentence(w):\n",
        "  w = unicode_to_ascii(w.lower().strip())\n",
        "\n",
        "  # creating a space between a word and the punctuation following it\n",
        "  # eg: \"he is a boy.\" => \"he is a boy .\"\n",
        "\n",
        "  w = re.sub(r\"([?.!,¿])\", r\" \\1 \", w)\n",
        "  w = re.sub(r'[\" \"]+', \" \", w)\n",
        "\n",
        "  # replacing everything with space except (a-z, A-Z, \".\", \"?\", \"!\", \",\")\n",
        "  w = re.sub(r\"[^a-zA-Z?.!,¿]+\", \" \", w)\n",
        "\n",
        "  w = w.strip()\n",
        "\n",
        "  # adding a start and an end token to the sentence\n",
        "  # so that the model know when to start and stop predicting.\n",
        "  w = '<sos> ' + w + ' <eos>'\n",
        "  return w"
      ]
    },
    {
      "cell_type": "code",
      "execution_count": null,
      "metadata": {
        "colab": {
          "base_uri": "https://localhost:8080/"
        },
        "id": "xIrWWfHRKP2X",
        "outputId": "54552f1f-9042-473d-fe64-6ef39f011275"
      },
      "outputs": [
        {
          "output_type": "stream",
          "name": "stdout",
          "text": [
            "<sos> two dogs of different breeds looking at each other on the road . <eos>\n",
            "['<sos>', 'सड़क', 'पर', 'एक', '-', 'दूसरे', 'को', 'देख', 'अलग', '-', 'अलग', 'नस्लों', 'के', 'दो', 'कुत्ते', '।', '<eos>']\n"
          ]
        }
      ],
      "source": [
        "for i in range(len(input_sentences)):\n",
        "   input_sentences[i] = preprocess_sentence(input_sentences[i])\n",
        "\n",
        "print(input_sentences[8])\n",
        "print(output_sentences[8])"
      ]
    },
    {
      "cell_type": "code",
      "execution_count": null,
      "metadata": {
        "id": "ZTlxjrjXKW_2"
      },
      "outputs": [],
      "source": [
        "# function to tokenize, fit the words into numeric sequences and pad them with zeroes up to the size of the largest sentence of that vocabulary\n",
        "# takes as input the input / output vocabulary and the padding type ('pre' / 'post'-- default: post)\n",
        "\n",
        "# inp_lang and targ_lang is of type tokenizer.fit_on_texts;\n",
        "# fit_on_texts of Tokenizer class updates internal vocabulary based on a list of texts.\n",
        "# This method creates the vocabulary index based on word frequency.\n",
        "# Lower integer means more frequent word (often the first few are stop words because they appear a lot).\n",
        "\n",
        "import tensorflow as tf\n",
        "\n",
        "def tokenize(lang, pad):\n",
        "  lang_tokenizer = tf.keras.preprocessing.text.Tokenizer(\n",
        "      filters='')\n",
        "\n",
        "  lang_tokenizer.fit_on_texts(lang)\n",
        "\n",
        "  tensor = lang_tokenizer.texts_to_sequences(lang)\n",
        "\n",
        "  tensor = tf.keras.preprocessing.sequence.pad_sequences(tensor,\n",
        "                                                         padding='post')\n",
        "  return tensor, lang_tokenizer"
      ]
    },
    {
      "cell_type": "code",
      "execution_count": null,
      "metadata": {
        "id": "KsEC_HKNLUsu"
      },
      "outputs": [],
      "source": [
        "# function to call the tokenize function to perform tokenizing and padding\n",
        "\n",
        "def load_dataset(inp_lang, targ_lang):\n",
        "  # creating cleaned input, output pairs\n",
        "  input_tensor, inp_lang_tokenizer = tokenize(inp_lang, 'post')\n",
        "  target_tensor, targ_lang_tokenizer = tokenize(targ_lang, 'post')\n",
        "\n",
        "  return input_tensor, target_tensor, inp_lang_tokenizer, targ_lang_tokenizer"
      ]
    },
    {
      "cell_type": "code",
      "execution_count": null,
      "metadata": {
        "colab": {
          "base_uri": "https://localhost:8080/"
        },
        "id": "yc2VZw1PLdl4",
        "outputId": "24aa95b7-76c9-487d-e3e4-2a1f109eab15"
      },
      "outputs": [
        {
          "output_type": "stream",
          "name": "stdout",
          "text": [
            "42\n",
            "40\n"
          ]
        }
      ],
      "source": [
        "input_tensor, target_tensor, inp_lang, targ_lang = load_dataset(input_sentences, output_sentences)\n",
        "\n",
        "# Calculate max_length of the target tensors\n",
        "# For our project, the max_length_targ and max_length_inp are 45 and 40 respectively.\n",
        "\n",
        "max_length_targ, max_length_inp = target_tensor.shape[1], input_tensor.shape[1]\n",
        "print(max_length_targ)\n",
        "print(max_length_inp)"
      ]
    },
    {
      "cell_type": "code",
      "execution_count": null,
      "metadata": {
        "colab": {
          "base_uri": "https://localhost:8080/"
        },
        "id": "Vma74e-aLowM",
        "outputId": "47a1acc7-78e5-419b-8d18-afb97cfd26ac"
      },
      "outputs": [
        {
          "output_type": "stream",
          "name": "stdout",
          "text": [
            "[   2  165    8   17   22    1   90   11   74 1278   24    4    3    0\n",
            "    0    0    0    0    0    0    0    0    0    0    0    0    0    0\n",
            "    0    0    0    0    0    0    0    0    0    0    0    0    0    0]\n",
            "[  2  14  33   7 647 721 357 131  87   4   3   0   0   0   0   0   0   0\n",
            "   0   0   0   0   0   0   0   0   0   0   0   0   0   0   0   0   0   0\n",
            "   0   0   0   0]\n"
          ]
        }
      ],
      "source": [
        "# checking if the input sequences have been obtained and padded properly\n",
        "print(target_tensor[9])\n",
        "print(input_tensor[9])"
      ]
    },
    {
      "cell_type": "code",
      "execution_count": null,
      "metadata": {
        "colab": {
          "base_uri": "https://localhost:8080/"
        },
        "id": "owZfcxhhMkLH",
        "outputId": "a82e61e6-91e5-4800-cfa8-d5ae0e6637f8"
      },
      "outputs": [
        {
          "output_type": "stream",
          "name": "stdout",
          "text": [
            "8000 8000 2000 2000\n"
          ]
        }
      ],
      "source": [
        "# Creating training and validation sets using an 80-20 split\n",
        "input_tensor_train, input_tensor_val, target_tensor_train, target_tensor_val = train_test_split(input_tensor, target_tensor, test_size=0.2, random_state=7)\n",
        "\n",
        "# Show length\n",
        "print(len(input_tensor_train), len(target_tensor_train), len(input_tensor_val), len(target_tensor_val))"
      ]
    },
    {
      "cell_type": "code",
      "execution_count": null,
      "metadata": {
        "colab": {
          "base_uri": "https://localhost:8080/"
        },
        "id": "GnwBLhZVNAJo",
        "outputId": "4970a946-e022-47f4-8371-2578332c4c47"
      },
      "outputs": [
        {
          "output_type": "stream",
          "name": "stdout",
          "text": [
            "[  2   1  22  99   7   1 191  62  82   1  67 267   6   5  24   4   3   0\n",
            "   0   0   0   0   0   0   0   0   0   0   0   0   0   0   0   0   0   0\n",
            "   0   0   0   0]\n",
            "[  2   1  28  27   7   1 317 280 108   1 241  52  64   8 218   5   4   3\n",
            "   0   0   0   0   0   0   0   0   0   0   0   0   0   0   0   0   0   0\n",
            "   0   0   0   0   0   0]\n"
          ]
        }
      ],
      "source": [
        "# checking if the input sequences have been obtained and padded properly\n",
        "print(input_tensor_val[9])\n",
        "print(target_tensor_val[9])"
      ]
    },
    {
      "cell_type": "code",
      "execution_count": null,
      "metadata": {
        "id": "sm1S8uOrNLAI"
      },
      "outputs": [],
      "source": [
        "# a function to test if the word to index / index to word mappings have been obtained correctly.\n",
        "# representative output for two sample english and hindi sentences given in the code block below\n",
        "\n",
        "def convert(lang, tensor):\n",
        "  for t in tensor:\n",
        "    if t!=0:\n",
        "      print (\"%d ----> %s\" % (t, lang.index_word[t]))\n",
        "      print (\"%s ----> %d\" % (lang.index_word[t], lang.word_index[lang.index_word[t]]))"
      ]
    },
    {
      "cell_type": "code",
      "execution_count": null,
      "metadata": {
        "colab": {
          "base_uri": "https://localhost:8080/"
        },
        "id": "oNBRCUXWNYRn",
        "outputId": "8cc13f31-b266-4cdd-c664-7eea06959ce2"
      },
      "outputs": [
        {
          "output_type": "stream",
          "name": "stdout",
          "text": [
            "Input Language; index to word mapping\n",
            "2 ----> <sos>\n",
            "<sos> ----> 2\n",
            "5 ----> the\n",
            "the ----> 5\n",
            "12 ----> man\n",
            "man ----> 12\n",
            "262 ----> wears\n",
            "wears ----> 262\n",
            "1 ----> a\n",
            "a ----> 1\n",
            "57 ----> green\n",
            "green ----> 57\n",
            "83 ----> hat\n",
            "hat ----> 83\n",
            "10 ----> and\n",
            "and ----> 10\n",
            "77 ----> jacket\n",
            "jacket ----> 77\n",
            "43 ----> while\n",
            "while ----> 43\n",
            "40 ----> standing\n",
            "standing ----> 40\n",
            "6 ----> in\n",
            "in ----> 6\n",
            "50 ----> front\n",
            "front ----> 50\n",
            "13 ----> of\n",
            "of ----> 13\n",
            "1 ----> a\n",
            "a ----> 1\n",
            "104 ----> mountain\n",
            "mountain ----> 104\n",
            "4 ----> .\n",
            ". ----> 4\n",
            "3 ----> <eos>\n",
            "<eos> ----> 3\n",
            "\n",
            "Target Language; index to word mapping\n",
            "2 ----> <sos>\n",
            "<sos> ----> 2\n",
            "15 ----> आदमी\n",
            "आदमी ----> 15\n",
            "1 ----> एक\n",
            "एक ----> 1\n",
            "125 ----> पहाड़\n",
            "पहाड़ ----> 125\n",
            "6 ----> के\n",
            "के ----> 6\n",
            "54 ----> सामने\n",
            "सामने ----> 54\n",
            "81 ----> खड़े\n",
            "खड़े ----> 81\n",
            "543 ----> होने\n",
            "होने ----> 543\n",
            "6 ----> के\n",
            "के ----> 6\n",
            "228 ----> दौरान\n",
            "दौरान ----> 228\n",
            "1 ----> एक\n",
            "एक ----> 1\n",
            "76 ----> हरे\n",
            "हरे ----> 76\n",
            "20 ----> रंग\n",
            "रंग ----> 20\n",
            "11 ----> की\n",
            "की ----> 11\n",
            "68 ----> टोपी\n",
            "टोपी ----> 68\n",
            "9 ----> और\n",
            "और ----> 9\n",
            "75 ----> जैकेट\n",
            "जैकेट ----> 75\n",
            "293 ----> पहनता\n",
            "पहनता ----> 293\n",
            "5 ----> है\n",
            "है ----> 5\n",
            "4 ----> ।\n",
            "। ----> 4\n",
            "3 ----> <eos>\n",
            "<eos> ----> 3\n"
          ]
        }
      ],
      "source": [
        "print (\"Input Language; index to word mapping\")\n",
        "convert(inp_lang, input_tensor_train[0])\n",
        "print ()\n",
        "print (\"Target Language; index to word mapping\")\n",
        "convert(targ_lang, target_tensor_train[0])"
      ]
    },
    {
      "cell_type": "code",
      "execution_count": null,
      "metadata": {
        "colab": {
          "base_uri": "https://localhost:8080/"
        },
        "id": "FAibbMXENdkP",
        "outputId": "d30a9c17-b3c7-43ea-d923-7180142bd83a"
      },
      "outputs": [
        {
          "output_type": "stream",
          "name": "stdout",
          "text": [
            "8000\n",
            "125\n",
            "125\n"
          ]
        }
      ],
      "source": [
        "# BUFFER_SIZE stores the number of training points\n",
        "BUFFER_SIZE = len(input_tensor_train)\n",
        "\n",
        "# BATCH_SIZE is set to 64. Training and gradient descent happens in batches of 64\n",
        "BATCH_SIZE = 64\n",
        "\n",
        "# the number of batches in one epoch (also, the number of steps during training, when we go batch by batch)\n",
        "steps_per_epoch = BUFFER_SIZE//BATCH_SIZE\n",
        "\n",
        "# the length of the embedded vector\n",
        "embedding_dim = 256\n",
        "\n",
        "# no of GRUs\n",
        "units = 1024\n",
        "\n",
        "# getting the size of the input and output vocabularies.\n",
        "vocab_inp_size = len(inp_lang.word_index)+1\n",
        "vocab_tar_size = len(targ_lang.word_index)+1\n",
        "\n",
        "# now, we shuffle the dataset and split it into batches of 64\n",
        "dataset = tf.data.Dataset.from_tensor_slices((input_tensor_train, target_tensor_train)).shuffle(BUFFER_SIZE)\n",
        "dataset = dataset.batch(BATCH_SIZE, drop_remainder=True) # the remainder after splitting by 64 are dropped\n",
        "\n",
        "print(BUFFER_SIZE)\n",
        "print(BUFFER_SIZE//64)\n",
        "print(steps_per_epoch)"
      ]
    },
    {
      "cell_type": "code",
      "execution_count": null,
      "metadata": {
        "colab": {
          "base_uri": "https://localhost:8080/"
        },
        "id": "c6jlUzZmN4O9",
        "outputId": "d5f2c171-5e9d-48a0-d673-64bb3bae5fe5"
      },
      "outputs": [
        {
          "output_type": "execute_result",
          "data": {
            "text/plain": [
              "(TensorShape([64, 40]), TensorShape([64, 42]))"
            ]
          },
          "metadata": {},
          "execution_count": 38
        }
      ],
      "source": [
        "# to understand the shape of an input batch\n",
        "example_input_batch, example_target_batch = next(iter(dataset))\n",
        "example_input_batch.shape, example_target_batch.shape"
      ]
    },
    {
      "cell_type": "markdown",
      "metadata": {
        "id": "ma3gOrpdXPy6"
      },
      "source": [
        "##Encoder-Decoder model\n",
        "The encoder model consists of an embedding layer, a GRU layer with 1024 units.\n",
        "\n",
        "The decoder model consists of a embedding layer, a GRU layer and a dense layer."
      ]
    },
    {
      "cell_type": "code",
      "execution_count": null,
      "metadata": {
        "id": "TVqoAHWgOUHK"
      },
      "outputs": [],
      "source": [
        "class Encoder(tf.keras.Model):\n",
        "  def __init__(self, vocab_size, embedding_dim, enc_units, batch_sz):\n",
        "    super(Encoder, self).__init__()\n",
        "    self.batch_sz = batch_sz # set batch size\n",
        "    self.enc_units = enc_units # set the number of GRU units\n",
        "    self.embedding = tf.keras.layers.Embedding(vocab_size, embedding_dim) # set the embedding layer using the input's vocabulary size and the embedding dimension (which is set to 256)\n",
        "    self.gru = tf.keras.layers.GRU(self.enc_units,\n",
        "                                   return_sequences=True,\n",
        "                                   return_state=True,\n",
        "                                   recurrent_initializer='glorot_uniform') # define the GRU layer\n",
        "\n",
        "  def call(self, x, hidden): # this function is invoked when the function encoder is called with an input and an initialised hidden layer\n",
        "    x = self.embedding(x)\n",
        "    output, state = self.gru(x, initial_state = hidden) # pass input x into the GRU layer\n",
        "    return output, state # function returns the encoder output and the hidden state\n",
        "\n",
        "\n",
        "  def initialize_hidden_state(self): #intialise hidden layer to all zeroes (for determining the shape)\n",
        "    return tf.zeros((self.batch_sz, self.enc_units))"
      ]
    },
    {
      "cell_type": "code",
      "execution_count": null,
      "metadata": {
        "colab": {
          "base_uri": "https://localhost:8080/"
        },
        "id": "YaDTTYShXa3H",
        "outputId": "746fe54e-6271-4333-f3c9-32337c0d9a5d"
      },
      "outputs": [
        {
          "output_type": "stream",
          "name": "stdout",
          "text": [
            "Encoder output shape: (batch size, sequence length, units) (64, 40, 1024)\n",
            "Encoder Hidden state shape: (batch size, units) (64, 1024)\n"
          ]
        }
      ],
      "source": [
        "encoder = Encoder(vocab_inp_size, embedding_dim, units, BATCH_SIZE) # create an Encoder class object\n",
        "\n",
        "# sample input to get a sense of the shapes.\n",
        "sample_hidden = encoder.initialize_hidden_state()\n",
        "sample_output, sample_hidden = encoder(example_input_batch, sample_hidden)\n",
        "print ('Encoder output shape: (batch size, sequence length, units) {}'.format(sample_output.shape))\n",
        "print ('Encoder Hidden state shape: (batch size, units) {}'.format(sample_hidden.shape))"
      ]
    },
    {
      "cell_type": "code",
      "execution_count": null,
      "metadata": {
        "id": "RsPq9OFXXqnS"
      },
      "outputs": [],
      "source": [
        "class Decoder(tf.keras.Model):\n",
        "  def __init__(self, vocab_size, embedding_dim, dec_units, batch_sz):\n",
        "    super(Decoder, self).__init__()\n",
        "    self.batch_sz = batch_sz # batch_size which is defined as 64\n",
        "    self.dec_units = dec_units # the number of decoder GRU units\n",
        "    self.embedding = tf.keras.layers.Embedding(vocab_size, embedding_dim) # defining an embedding layer for the target language output.\n",
        "    self.gru = tf.keras.layers.GRU(self.dec_units,\n",
        "                                   return_sequences=True,\n",
        "                                   return_state=True,\n",
        "                                   recurrent_initializer='glorot_uniform') # GRU layer\n",
        "    self.fc = tf.keras.layers.Dense(vocab_size)\n",
        "\n",
        "\n",
        "  def call(self, x, hidden):\n",
        "\n",
        "    # x shape after passing through embedding == (batch_size, 1, embedding_dim)\n",
        "    x = self.embedding(x) # creating an embedding layer for the target output\n",
        "\n",
        "    # passing the initial state to the GRU as the hidden state\n",
        "    output, state = self.gru(x, initial_state=hidden)\n",
        "\n",
        "    # output shape == (batch_size * 1, hidden_size)\n",
        "    output = tf.reshape(output, (-1, output.shape[2]))\n",
        "\n",
        "    # output shape == (batch_size, vocab)\n",
        "    x = self.fc(output) # pass the output through the dense layer\n",
        "\n",
        "    return x, state # return decoder output and decoder state"
      ]
    },
    {
      "cell_type": "code",
      "execution_count": null,
      "metadata": {
        "colab": {
          "base_uri": "https://localhost:8080/"
        },
        "id": "17xUqyL-X6j4",
        "outputId": "45c321ae-59f0-441b-a812-a62ceb6a9b47"
      },
      "outputs": [
        {
          "output_type": "stream",
          "name": "stdout",
          "text": [
            "Decoder output shape: (batch_size, vocab size) (64, 4826)\n"
          ]
        }
      ],
      "source": [
        "decoder = Decoder(vocab_tar_size, embedding_dim, units, BATCH_SIZE)\n",
        "\n",
        "sample_decoder_output, _ = decoder(tf.random.uniform((BATCH_SIZE, 1)),\n",
        "                                      sample_hidden)\n",
        "\n",
        "print ('Decoder output shape: (batch_size, vocab size) {}'.format(sample_decoder_output.shape))"
      ]
    },
    {
      "cell_type": "markdown",
      "metadata": {
        "id": "cbG7j180YV7u"
      },
      "source": [
        "#Training the model¶\n",
        "The model is trained on a GPU machine with fixed number of epochs.\n",
        "\n",
        "A custom training loop (instead of Model.Fit etc.) is used for which further reference is available from Tensorflow here\n",
        "\n",
        "The model can be extended with the use of the validation data for early stopping and further fine tuning.\n",
        "\n",
        "Checkpoints are stored for easy retrival of the model and resue without training"
      ]
    },
    {
      "cell_type": "code",
      "execution_count": null,
      "metadata": {
        "id": "KVDwm-A5X-9H"
      },
      "outputs": [],
      "source": [
        "optimizer = tf.keras.optimizers.Adam()\n",
        "loss_object = tf.keras.losses.SparseCategoricalCrossentropy(\n",
        "    from_logits=True, reduction='none') #Loss function is categorical crossentropy\n",
        "\n",
        "def loss_function(real, pred):\n",
        "  mask = tf.math.logical_not(tf.math.equal(real, 0))\n",
        "  loss_ = loss_object(real, pred)\n",
        "\n",
        "  mask = tf.cast(mask, dtype=loss_.dtype)\n",
        "  loss_ *= mask\n",
        "\n",
        "  return tf.reduce_mean(loss_)"
      ]
    },
    {
      "cell_type": "code",
      "execution_count": null,
      "metadata": {
        "id": "GBIx8mhlYh2r"
      },
      "outputs": [],
      "source": [
        "checkpoint_dir = './tutorial_checkpoint_nmt'\n",
        "checkpoint_prefix = os.path.join(checkpoint_dir, \"ckpt\")\n",
        "checkpoint = tf.train.Checkpoint(optimizer=optimizer,\n",
        "                                 encoder=encoder,\n",
        "                                 decoder=decoder)"
      ]
    },
    {
      "cell_type": "code",
      "execution_count": null,
      "metadata": {
        "id": "71oHVWzSYn-3"
      },
      "outputs": [],
      "source": [
        "@tf.function\n",
        "def train_step(inp, targ, enc_hidden):\n",
        "  loss = 0\n",
        "\n",
        "  with tf.GradientTape() as tape:\n",
        "    enc_output, enc_hidden = encoder(inp, enc_hidden)\n",
        "\n",
        "    dec_hidden = enc_hidden\n",
        "\n",
        "    dec_input = tf.expand_dims([targ_lang.word_index['<sos>']] * BATCH_SIZE, 1)\n",
        "\n",
        "    # Teacher forcing - feeding the target as the next input\n",
        "    for t in range(1, targ.shape[1]):\n",
        "      # passing enc_output to the decoder\n",
        "      predictions, dec_hidden = decoder(dec_input, dec_hidden)\n",
        "\n",
        "      loss += loss_function(targ[:, t], predictions)\n",
        "\n",
        "      # using teacher forcing\n",
        "      dec_input = tf.expand_dims(targ[:, t], 1)\n",
        "\n",
        "  batch_loss = (loss / int(targ.shape[1]))\n",
        "\n",
        "  variables = encoder.trainable_variables + decoder.trainable_variables\n",
        "\n",
        "  gradients = tape.gradient(loss, variables)\n",
        "\n",
        "  optimizer.apply_gradients(zip(gradients, variables)) # doing gradient descent\n",
        "\n",
        "  return batch_loss"
      ]
    },
    {
      "cell_type": "code",
      "execution_count": null,
      "metadata": {
        "colab": {
          "base_uri": "https://localhost:8080/"
        },
        "id": "tVOs3VmZYtot",
        "outputId": "0ebe0eb9-1540-4dce-b93f-7660f1156a73"
      },
      "outputs": [
        {
          "output_type": "stream",
          "name": "stdout",
          "text": [
            "Epoch 1 Batch 0 Loss 2.7673\n",
            "Epoch 1 Batch 100 Loss 1.4024\n",
            "Epoch 1 Loss 1.5097\n",
            "Time taken for 1 epoch 208.78186345100403 sec\n",
            "\n",
            "Epoch 2 Batch 0 Loss 1.1389\n",
            "Epoch 2 Batch 100 Loss 0.9927\n",
            "Epoch 2 Loss 1.1019\n",
            "Time taken for 1 epoch 174.6262547969818 sec\n",
            "\n",
            "Epoch 3 Batch 0 Loss 1.0249\n",
            "Epoch 3 Batch 100 Loss 0.8731\n",
            "Epoch 3 Loss 0.9426\n",
            "Time taken for 1 epoch 172.57443523406982 sec\n",
            "\n",
            "Epoch 4 Batch 0 Loss 0.7211\n",
            "Epoch 4 Batch 100 Loss 0.8094\n",
            "Epoch 4 Loss 0.8135\n",
            "Time taken for 1 epoch 171.9892029762268 sec\n",
            "\n",
            "Epoch 5 Batch 0 Loss 0.6842\n",
            "Epoch 5 Batch 100 Loss 0.6989\n",
            "Epoch 5 Loss 0.6953\n",
            "Time taken for 1 epoch 172.01560878753662 sec\n",
            "\n",
            "Epoch 6 Batch 0 Loss 0.5711\n",
            "Epoch 6 Batch 100 Loss 0.5574\n",
            "Epoch 6 Loss 0.5811\n",
            "Time taken for 1 epoch 177.9897859096527 sec\n",
            "\n",
            "Epoch 7 Batch 0 Loss 0.4112\n",
            "Epoch 7 Batch 100 Loss 0.4968\n",
            "Epoch 7 Loss 0.4757\n",
            "Time taken for 1 epoch 177.04346179962158 sec\n",
            "\n",
            "Epoch 8 Batch 0 Loss 0.3528\n",
            "Epoch 8 Batch 100 Loss 0.4039\n",
            "Epoch 8 Loss 0.3781\n",
            "Time taken for 1 epoch 177.97491717338562 sec\n",
            "\n",
            "Epoch 9 Batch 0 Loss 0.2639\n",
            "Epoch 9 Batch 100 Loss 0.2876\n",
            "Epoch 9 Loss 0.2908\n",
            "Time taken for 1 epoch 176.5050585269928 sec\n",
            "\n",
            "Epoch 10 Batch 0 Loss 0.1913\n",
            "Epoch 10 Batch 100 Loss 0.2370\n",
            "Epoch 10 Loss 0.2143\n",
            "Time taken for 1 epoch 169.24275422096252 sec\n",
            "\n"
          ]
        }
      ],
      "source": [
        "train = True\n",
        "EPOCHS = 10\n",
        "if train :\n",
        "  for epoch in range(EPOCHS):\n",
        "    start = time.time()\n",
        "\n",
        "    enc_hidden = encoder.initialize_hidden_state()\n",
        "    total_loss = 0\n",
        "\n",
        "    for (batch, (inp, targ)) in enumerate(dataset.take(steps_per_epoch)):\n",
        "      batch_loss = train_step(inp, targ, enc_hidden)\n",
        "      total_loss += batch_loss\n",
        "\n",
        "      if batch % 100 == 0:\n",
        "        print('Epoch {} Batch {} Loss {:.4f}'.format(epoch + 1,\n",
        "                                                    batch,\n",
        "                                                    batch_loss.numpy()))\n",
        "    # saving (checkpoint) the model every 2 epochs\n",
        "    if (epoch + 1) % 2 == 0:\n",
        "      checkpoint.save(file_prefix = checkpoint_prefix)\n",
        "\n",
        "    print('Epoch {} Loss {:.4f}'.format(epoch + 1,\n",
        "                                        total_loss / steps_per_epoch))\n",
        "    print('Time taken for 1 epoch {} sec\\n'.format(time.time() - start))"
      ]
    },
    {
      "cell_type": "code",
      "execution_count": null,
      "metadata": {
        "colab": {
          "base_uri": "https://localhost:8080/"
        },
        "id": "PUW9dDqhYzUE",
        "outputId": "b58dbc3e-3e2f-4145-e29d-aee79d6d64ef"
      },
      "outputs": [
        {
          "output_type": "execute_result",
          "data": {
            "text/plain": [
              "<tensorflow.python.checkpoint.checkpoint.CheckpointLoadStatus at 0x7b335ba66290>"
            ]
          },
          "metadata": {},
          "execution_count": 47
        }
      ],
      "source": [
        "# restoring the latest checkpoint in checkpoint_dir\n",
        "checkpoint.restore(tf.train.latest_checkpoint(checkpoint_dir))"
      ]
    },
    {
      "cell_type": "markdown",
      "metadata": {
        "id": "7TQ38NcsgSMB"
      },
      "source": [
        "#Prediction using Greedy Search¶\n",
        "Greedy search is used to for Decoding of text."
      ]
    },
    {
      "cell_type": "code",
      "execution_count": null,
      "metadata": {
        "id": "RSNoPMLsgJes"
      },
      "outputs": [],
      "source": [
        "def evaluate(sentence):\n",
        "  sentence = preprocess_sentence(sentence)\n",
        "\n",
        "  inputs = [inp_lang.word_index[i] for i in sentence.split(' ')]\n",
        "  inputs = tf.keras.preprocessing.sequence.pad_sequences([inputs],\n",
        "                                                         maxlen=max_length_inp,\n",
        "                                                         padding='post')\n",
        "  inputs = tf.convert_to_tensor(inputs)\n",
        "\n",
        "  result = ''\n",
        "\n",
        "  hidden = [tf.zeros((1, units))]\n",
        "  enc_out, enc_hidden = encoder(inputs, hidden)\n",
        "\n",
        "  dec_hidden = enc_hidden\n",
        "  dec_input = tf.expand_dims([targ_lang.word_index['<sos>']], 0)\n",
        "\n",
        "  for t in range(max_length_targ):\n",
        "    predictions, dec_hidden = decoder(dec_input,dec_hidden)\n",
        "\n",
        "    # pass the encoder output, decoder hidden state(which is initialised to encoder hidden state for the first time and decoder input to the decoder)\n",
        "    # make a prediction and obtain decoder hidden states\n",
        "\n",
        "    predicted_id = tf.argmax(predictions[0]).numpy()\n",
        "\n",
        "    result += targ_lang.index_word[predicted_id] + ' '\n",
        "\n",
        "    if targ_lang.index_word[predicted_id] == '<eos>':\n",
        "      return result, sentence\n",
        "\n",
        "    # the predicted ID is fed back into the model\n",
        "    dec_input = tf.expand_dims([predicted_id], 0)\n",
        "\n",
        "  return result, sentence"
      ]
    },
    {
      "cell_type": "code",
      "execution_count": null,
      "metadata": {
        "id": "PKNzPLuDgIrC"
      },
      "outputs": [],
      "source": [
        "def translate(sentence):\n",
        "  result, sentence = evaluate(sentence)\n",
        "\n",
        "  print('Input: %s' % (sentence))\n",
        "  print('Predicted translation: {}'.format(result))\n",
        "\n",
        "  return result"
      ]
    },
    {
      "cell_type": "code",
      "execution_count": null,
      "metadata": {
        "id": "hJdRqaVzZiel"
      },
      "outputs": [],
      "source": [
        "# Define preprocess_sentence and translate_with_custom_model functions\n",
        "\n",
        "def preprocess_sentence(sentence):\n",
        "    sentence = unicode_to_ascii(sentence.lower().strip())\n",
        "    sentence = re.sub(r\"([?.!,¿])\", r\" \\1 \", sentence)\n",
        "    sentence = re.sub(r'[\" \"]+', \" \", sentence)\n",
        "    sentence = re.sub(r\"[^a-zA-Z?.!,¿]+\", \" \", sentence)\n",
        "    sentence = sentence.strip()\n",
        "    sentence = '<sos> ' + sentence + ' <eos>'\n",
        "    return sentence\n",
        "\n",
        "def translate_with_custom_model(caption):\n",
        "    caption = preprocess_sentence(caption)\n",
        "    inputs = [inp_lang.word_index.get(i, 0) for i in caption.split(' ')]\n",
        "    inputs = tf.keras.preprocessing.sequence.pad_sequences([inputs], maxlen=max_length_inp, padding='post')\n",
        "    inputs = tf.convert_to_tensor(inputs)\n",
        "\n",
        "    hidden = [tf.zeros((1, units))]\n",
        "    enc_out, enc_hidden = encoder(inputs, hidden)\n",
        "\n",
        "    dec_hidden = enc_hidden\n",
        "    dec_input = tf.expand_dims([targ_lang.word_index['<sos>']], 0)\n",
        "\n",
        "    result = ''\n",
        "    for t in range(max_length_targ):\n",
        "        predictions, dec_hidden = decoder(dec_input, dec_hidden)\n",
        "        predicted_id = tf.argmax(predictions[0]).numpy()\n",
        "        result += targ_lang.index_word[predicted_id] + ' '\n",
        "\n",
        "        if targ_lang.index_word[predicted_id] == '<eos>':\n",
        "            return result.strip()\n",
        "\n",
        "        dec_input = tf.expand_dims([predicted_id], 0)\n",
        "\n",
        "    return result.strip()\n"
      ]
    },
    {
      "cell_type": "code",
      "execution_count": null,
      "metadata": {
        "colab": {
          "base_uri": "https://localhost:8080/",
          "height": 72
        },
        "id": "TED_qewMgw6w",
        "outputId": "4b19947a-cea3-42dd-cf77-3e7da38d6811"
      },
      "outputs": [
        {
          "output_type": "stream",
          "name": "stdout",
          "text": [
            "Input: <sos> two dogs of different breeds looking at each other on the road <eos>\n",
            "Predicted translation: विभिन्न नस्लों के दो कुत्ते एक चरागाह में खड़े हैं जबकि एक कुत्ता उसमें दिखता है । <eos> \n"
          ]
        },
        {
          "output_type": "execute_result",
          "data": {
            "text/plain": [
              "'विभिन्न नस्लों के दो कुत्ते एक चरागाह में खड़े हैं जबकि एक कुत्ता उसमें दिखता है । <eos> '"
            ],
            "application/vnd.google.colaboratory.intrinsic+json": {
              "type": "string"
            }
          },
          "metadata": {},
          "execution_count": 51
        }
      ],
      "source": [
        "translate(\"two dogs of different breeds looking at each other on the road \")"
      ]
    },
    {
      "cell_type": "code",
      "execution_count": null,
      "metadata": {
        "colab": {
          "base_uri": "https://localhost:8080/",
          "height": 72
        },
        "id": "99XZSPuahTy4",
        "outputId": "56cc19b9-56d1-4772-d5b6-0932edb9109f"
      },
      "outputs": [
        {
          "output_type": "stream",
          "name": "stdout",
          "text": [
            "Input: <sos> the boy is playing with a colorful ribbon <eos>\n",
            "Predicted translation: लड़का बास्केटबॉल खेल रहा है जबकि बास्केटबॉल खेल रहा है । <eos> \n"
          ]
        },
        {
          "output_type": "execute_result",
          "data": {
            "text/plain": [
              "'लड़का बास्केटबॉल खेल रहा है जबकि बास्केटबॉल खेल रहा है । <eos> '"
            ],
            "application/vnd.google.colaboratory.intrinsic+json": {
              "type": "string"
            }
          },
          "metadata": {},
          "execution_count": 52
        }
      ],
      "source": [
        "translate(\"The boy is playing with a colorful ribbon\")"
      ]
    },
    {
      "cell_type": "markdown",
      "metadata": {
        "id": "d6P7dWlah0_a"
      },
      "source": [
        "#Calculating BLEU, BERT, METEOR score for evaluation¶\n",
        "BLEU score (Bilingual Evaluation Understudy) is calculated on the test data for evaluating the quality of translations"
      ]
    },
    {
      "cell_type": "code",
      "execution_count": null,
      "metadata": {
        "colab": {
          "base_uri": "https://localhost:8080/"
        },
        "id": "hRpOUnOwhTom",
        "outputId": "cd46cded-f4fb-4b62-9468-dff22e7fc876"
      },
      "outputs": [
        {
          "output_type": "stream",
          "name": "stdout",
          "text": [
            "<class 'str'>\n",
            "40450\n",
            "A black dog running in the surf .\n",
            "['<sos>', 'सर्फ', 'में', 'एक', 'काला', 'कुत्ता', 'दौड़', 'रहा', 'है', '।', '<eos>']\n"
          ]
        }
      ],
      "source": [
        "# Assuming w1 and w2 are the DataFrames containing test data for English and Hindi respectively\n",
        "\n",
        "# Initialize lists to store processed sentences\n",
        "test_input_sentences = []\n",
        "test_output_sentences = []\n",
        "\n",
        "# Process the English sentences (w1)\n",
        "for i, row in w1.iterrows():\n",
        "    test_input_sentence = row['caption'].strip().strip(\"\\n\").strip('-')\n",
        "    test_input_sentences.append(test_input_sentence)\n",
        "\n",
        "# Process the Hindi sentences (w2)\n",
        "for i, row in w2.iterrows():\n",
        "    test_output_sentence = row['caption'].strip().strip(\"\\n\").strip('-')\n",
        "    tokenized_sentence = indic_tokenize.trivial_tokenize(test_output_sentence)\n",
        "    test_output_sentences.append(['<sos>'] + tokenized_sentence + ['<eos>'])\n",
        "\n",
        "# Verify the output\n",
        "print(type(test_input_sentences[90]))  # Should print <class 'str'>\n",
        "print(len(test_output_sentences))  # Should print the number of sentences processed\n",
        "print(test_input_sentences[90])  # Sample English sentence\n",
        "print(test_output_sentences[90])  # Sample tokenized Hindi sentence\n"
      ]
    },
    {
      "cell_type": "code",
      "execution_count": null,
      "metadata": {
        "colab": {
          "base_uri": "https://localhost:8080/"
        },
        "id": "F92tJ6KfhTWv",
        "outputId": "ee3af401-a291-45bc-bf6c-a3d8b98792ee"
      },
      "outputs": [
        {
          "output_type": "stream",
          "name": "stdout",
          "text": [
            "Input: <sos> a child in a pink dress is climbing up a set of stairs in an entry way . <eos>\n",
            "Predicted translation: एक नीली लेटर्ड में एक बच्चा एक वयस्क द्वारा निर्देशित होता है जबकि एक वयस्क उसके पीछे से दूर होती है । <eos> \n",
            "Reference Translation: <sos> गुलाबी पोशाक में एक बच्चा प्रवेश के रास्ते में सीढ़ियों के एक सेट पर चढ़ रहा है । <eos>\n",
            "Input: <sos> a girl going into a wooden building . <eos>\n",
            "Predicted translation: एक लड़की एक अच्छे दिन में झूलती है । <eos> \n",
            "Reference Translation: <sos> एक लड़की लकड़ी की इमारत में जा रही है । <eos>\n",
            "Input: <sos> a little girl climbing into a wooden playhouse . <eos>\n",
            "Predicted translation: एक छोटी लड़की लकड़ी के प्लेहाउस में चढ़ गई । <eos> \n",
            "Reference Translation: <sos> एक छोटी लड़की लकड़ी के प्लेहाउस में चढ़ गई । <eos>\n",
            "Input: <sos> a little girl climbing the stairs to her playhouse . <eos>\n",
            "Predicted translation: एक छोटी लड़की खुशी से झांकती है । <eos> \n",
            "Reference Translation: <sos> एक छोटी सी लड़की अपने प्लेहाउस में सीढ़ियाँ चढ़ रही थी । <eos>\n",
            "Input: <sos> a little girl in a pink dress going into a wooden cabin . <eos>\n",
            "Predicted translation: एक गुलाबी पोशाक में एक छोटी लड़की एक लकड़ी के केबिन में जा रही है । <eos> \n",
            "Reference Translation: <sos> एक गुलाबी पोशाक में एक छोटी लड़की एक लकड़ी के केबिन में जा रही है । <eos>\n",
            "Input: <sos> a black dog and a spotted dog are fighting <eos>\n",
            "Predicted translation: एक काला कुत्ता और एक चित्तीदार कुत्ता लड़ रहे हैं <eos> \n",
            "Reference Translation: <sos> एक काला कुत्ता और एक चित्तीदार कुत्ता लड़ रहे हैं <eos>\n",
            "Input: <sos> a black dog and a tri colored dog playing with each other on the road . <eos>\n",
            "Predicted translation: एक काला कुत्ता और एक पीला कुत्ता एक समुद्र तट पर कैमरे की ओर देखते हैं । <eos> \n",
            "Reference Translation: <sos> एक काला कुत्ता और सड़क पर एक दूसरे के साथ खेलता हुआ एक तिरंगा कुत्ता । <eos>\n",
            "Input: <sos> a black dog and a white dog with brown spots are staring at each other in the street . <eos>\n",
            "Predicted translation: एक काले कुत्ते और भूरे रंग के धब्बे वाला एक सफेद कुत्ता सड़क पर एक दूसरे को घूर रहा है । <eos> \n",
            "Reference Translation: <sos> एक काले कुत्ते और भूरे रंग के धब्बे वाला एक सफेद कुत्ता सड़क पर एक दूसरे को घूर रहा है । <eos>\n",
            "Input: <sos> two dogs of different breeds looking at each other on the road . <eos>\n",
            "Predicted translation: विभिन्न नस्लों के दो कुत्ते एक चरागाह में खड़े हैं जबकि एक व्यक्ति गोदी से देखता है । <eos> \n",
            "Reference Translation: <sos> सड़क पर एक - दूसरे को देख अलग - अलग नस्लों के दो कुत्ते । <eos>\n",
            "Input: <sos> two dogs on pavement moving toward each other . <eos>\n",
            "Predicted translation: एक डॉक के पास दो कुत्ते खड़े थे । <eos> \n",
            "Reference Translation: <sos> फुटपाथ पर दो कुत्ते एक दूसरे की ओर बढ़ते हुए । <eos>\n",
            "BLEU score on test data without smoothing function:  9.173539641215838e-232\n",
            "BLEU score on test data with smoothing function:  0.004875624921973539\n"
          ]
        }
      ],
      "source": [
        "from nltk.translate.bleu_score import corpus_bleu\n",
        "from nltk.translate.bleu_score import SmoothingFunction\n",
        "chencherry = SmoothingFunction()\n",
        "evaluate_n_sentences = 10\n",
        "\n",
        "references = []\n",
        "candidates = []\n",
        "for i in range(evaluate_n_sentences):\n",
        "  try:\n",
        "    res = translate(test_input_sentences[i])\n",
        "    ref = test_output_sentences[i].copy()\n",
        "    ref = [e for e in ref if e not in ('<eos>', '<sos>', '.')]\n",
        "    references.append(ref)\n",
        "    listToStr = ' '.join(map(str, test_output_sentences[i]))\n",
        "    print('Reference Translation: %s' % (listToStr))\n",
        "    candidate = indic_tokenize.trivial_tokenize(res)\n",
        "    candidate = [e for e in candidate if e not in ('<', 'eos','>', '.')]\n",
        "    candidates.append(candidate)\n",
        "  except:\n",
        "    print('Sentence :', i+1, ' not translatable ..moving to next' )\n",
        "score1 = corpus_bleu(references, candidates, smoothing_function=chencherry.method4)\n",
        "score2 = corpus_bleu(references, candidates)\n",
        "print('BLEU score on test data without smoothing function: ' ,score2)\n",
        "print('BLEU score on test data with smoothing function: ' ,score1)"
      ]
    },
    {
      "cell_type": "code",
      "source": [
        "!pip install bert-score\n",
        "!pip install nltk"
      ],
      "metadata": {
        "colab": {
          "base_uri": "https://localhost:8080/"
        },
        "id": "5uoOi6H-P5-U",
        "outputId": "0f704156-b26f-4a33-9f1f-792974eb96fd"
      },
      "execution_count": null,
      "outputs": [
        {
          "output_type": "stream",
          "name": "stdout",
          "text": [
            "Requirement already satisfied: bert-score in /usr/local/lib/python3.10/dist-packages (0.3.13)\n",
            "Requirement already satisfied: torch>=1.0.0 in /usr/local/lib/python3.10/dist-packages (from bert-score) (2.4.0+cu121)\n",
            "Requirement already satisfied: pandas>=1.0.1 in /usr/local/lib/python3.10/dist-packages (from bert-score) (2.1.4)\n",
            "Requirement already satisfied: transformers>=3.0.0 in /usr/local/lib/python3.10/dist-packages (from bert-score) (4.42.4)\n",
            "Requirement already satisfied: numpy in /usr/local/lib/python3.10/dist-packages (from bert-score) (1.26.4)\n",
            "Requirement already satisfied: requests in /usr/local/lib/python3.10/dist-packages (from bert-score) (2.32.3)\n",
            "Requirement already satisfied: tqdm>=4.31.1 in /usr/local/lib/python3.10/dist-packages (from bert-score) (4.66.5)\n",
            "Requirement already satisfied: matplotlib in /usr/local/lib/python3.10/dist-packages (from bert-score) (3.7.1)\n",
            "Requirement already satisfied: packaging>=20.9 in /usr/local/lib/python3.10/dist-packages (from bert-score) (24.1)\n",
            "Requirement already satisfied: python-dateutil>=2.8.2 in /usr/local/lib/python3.10/dist-packages (from pandas>=1.0.1->bert-score) (2.8.2)\n",
            "Requirement already satisfied: pytz>=2020.1 in /usr/local/lib/python3.10/dist-packages (from pandas>=1.0.1->bert-score) (2024.1)\n",
            "Requirement already satisfied: tzdata>=2022.1 in /usr/local/lib/python3.10/dist-packages (from pandas>=1.0.1->bert-score) (2024.1)\n",
            "Requirement already satisfied: filelock in /usr/local/lib/python3.10/dist-packages (from torch>=1.0.0->bert-score) (3.15.4)\n",
            "Requirement already satisfied: typing-extensions>=4.8.0 in /usr/local/lib/python3.10/dist-packages (from torch>=1.0.0->bert-score) (4.12.2)\n",
            "Requirement already satisfied: sympy in /usr/local/lib/python3.10/dist-packages (from torch>=1.0.0->bert-score) (1.13.2)\n",
            "Requirement already satisfied: networkx in /usr/local/lib/python3.10/dist-packages (from torch>=1.0.0->bert-score) (3.3)\n",
            "Requirement already satisfied: jinja2 in /usr/local/lib/python3.10/dist-packages (from torch>=1.0.0->bert-score) (3.1.4)\n",
            "Requirement already satisfied: fsspec in /usr/local/lib/python3.10/dist-packages (from torch>=1.0.0->bert-score) (2024.6.1)\n",
            "Requirement already satisfied: huggingface-hub<1.0,>=0.23.2 in /usr/local/lib/python3.10/dist-packages (from transformers>=3.0.0->bert-score) (0.23.5)\n",
            "Requirement already satisfied: pyyaml>=5.1 in /usr/local/lib/python3.10/dist-packages (from transformers>=3.0.0->bert-score) (6.0.2)\n",
            "Requirement already satisfied: regex!=2019.12.17 in /usr/local/lib/python3.10/dist-packages (from transformers>=3.0.0->bert-score) (2024.5.15)\n",
            "Requirement already satisfied: safetensors>=0.4.1 in /usr/local/lib/python3.10/dist-packages (from transformers>=3.0.0->bert-score) (0.4.4)\n",
            "Requirement already satisfied: tokenizers<0.20,>=0.19 in /usr/local/lib/python3.10/dist-packages (from transformers>=3.0.0->bert-score) (0.19.1)\n",
            "Requirement already satisfied: contourpy>=1.0.1 in /usr/local/lib/python3.10/dist-packages (from matplotlib->bert-score) (1.2.1)\n",
            "Requirement already satisfied: cycler>=0.10 in /usr/local/lib/python3.10/dist-packages (from matplotlib->bert-score) (0.12.1)\n",
            "Requirement already satisfied: fonttools>=4.22.0 in /usr/local/lib/python3.10/dist-packages (from matplotlib->bert-score) (4.53.1)\n",
            "Requirement already satisfied: kiwisolver>=1.0.1 in /usr/local/lib/python3.10/dist-packages (from matplotlib->bert-score) (1.4.5)\n",
            "Requirement already satisfied: pillow>=6.2.0 in /usr/local/lib/python3.10/dist-packages (from matplotlib->bert-score) (9.4.0)\n",
            "Requirement already satisfied: pyparsing>=2.3.1 in /usr/local/lib/python3.10/dist-packages (from matplotlib->bert-score) (3.1.4)\n",
            "Requirement already satisfied: charset-normalizer<4,>=2 in /usr/local/lib/python3.10/dist-packages (from requests->bert-score) (3.3.2)\n",
            "Requirement already satisfied: idna<4,>=2.5 in /usr/local/lib/python3.10/dist-packages (from requests->bert-score) (3.8)\n",
            "Requirement already satisfied: urllib3<3,>=1.21.1 in /usr/local/lib/python3.10/dist-packages (from requests->bert-score) (2.0.7)\n",
            "Requirement already satisfied: certifi>=2017.4.17 in /usr/local/lib/python3.10/dist-packages (from requests->bert-score) (2024.7.4)\n",
            "Requirement already satisfied: six>=1.5 in /usr/local/lib/python3.10/dist-packages (from python-dateutil>=2.8.2->pandas>=1.0.1->bert-score) (1.16.0)\n",
            "Requirement already satisfied: MarkupSafe>=2.0 in /usr/local/lib/python3.10/dist-packages (from jinja2->torch>=1.0.0->bert-score) (2.1.5)\n",
            "Requirement already satisfied: mpmath<1.4,>=1.1.0 in /usr/local/lib/python3.10/dist-packages (from sympy->torch>=1.0.0->bert-score) (1.3.0)\n",
            "Requirement already satisfied: nltk in /usr/local/lib/python3.10/dist-packages (3.8.1)\n",
            "Requirement already satisfied: click in /usr/local/lib/python3.10/dist-packages (from nltk) (8.1.7)\n",
            "Requirement already satisfied: joblib in /usr/local/lib/python3.10/dist-packages (from nltk) (1.4.2)\n",
            "Requirement already satisfied: regex>=2021.8.3 in /usr/local/lib/python3.10/dist-packages (from nltk) (2024.5.15)\n",
            "Requirement already satisfied: tqdm in /usr/local/lib/python3.10/dist-packages (from nltk) (4.66.5)\n"
          ]
        }
      ]
    },
    {
      "cell_type": "code",
      "source": [
        "# Your existing imports and code here...\n",
        "\n",
        "from bert_score import score\n",
        "\n",
        "# After your existing BLEU score calculation\n",
        "\n",
        "# Prepare lists for BERT score calculation\n",
        "cands = [' '.join(candidate) for candidate in candidates]\n",
        "refs = [' '.join(reference) for reference in references]\n",
        "\n",
        "# Calculate BERT scores\n",
        "P, R, F1 = score(cands, refs, lang=\"hi\", verbose=True)\n",
        "\n",
        "# Print BERT scores\n",
        "print(f\"BERT Precision: {P.mean():.3f}\")\n",
        "print(f\"BERT Recall: {R.mean():.3f}\")\n",
        "print(f\"BERT F1: {F1.mean():.3f}\")"
      ],
      "metadata": {
        "colab": {
          "base_uri": "https://localhost:8080/",
          "height": 209,
          "referenced_widgets": [
            "0553f1d3214b46af895d95cc495cafbe",
            "d388f6a27b4e4078999244fdd39746d1",
            "0daa9ffc03704d1281eb93c19c2fddc1",
            "667eac8e83ea4e208dfe52dddf7f4adb",
            "f20a8ee36f004c8eaf3b5da969e856cb",
            "2262f08b6d2f4a36aaa41068e6cf8484",
            "c9c3cdb2271c48aab3dcc5fb99e9e371",
            "40d24d8f93964c6d99481c6cfd1c150f",
            "551190b5b0654c3fadac1a6bb4d082c7",
            "d1236b7743df4050a36dc73b9d3370a6",
            "efe61c5a38d54c20ae440f086b1e49fa",
            "e5c3a1b88d6c4a14a4db47b75dfdfb90",
            "d3946a38617a4713969b76bac0f90d68",
            "10248f5fbded45babfea26bc253410be",
            "2b21facedf034638b3b5de8abb1c87d1",
            "029ab0102d3446c994cbd27b7d3209fb",
            "0f850258338f4144a6f68951a53793a5",
            "19f2832b22f048ddb77512008037a8bc",
            "ff5dcc15032942faa921d875a9145293",
            "f9d2ffbe4f544f8d83d0de124640d758",
            "b04158576971403b98eefd6041795c0b",
            "09bbabe19a104483a2a058402e2a2fa7"
          ]
        },
        "id": "20Pjj_ZHLbJh",
        "outputId": "50204ff3-2516-487a-ff31-7011225361ad"
      },
      "execution_count": null,
      "outputs": [
        {
          "output_type": "stream",
          "name": "stdout",
          "text": [
            "calculating scores...\n",
            "computing bert embedding.\n"
          ]
        },
        {
          "output_type": "display_data",
          "data": {
            "text/plain": [
              "  0%|          | 0/1 [00:00<?, ?it/s]"
            ],
            "application/vnd.jupyter.widget-view+json": {
              "version_major": 2,
              "version_minor": 0,
              "model_id": "0553f1d3214b46af895d95cc495cafbe"
            }
          },
          "metadata": {}
        },
        {
          "output_type": "stream",
          "name": "stdout",
          "text": [
            "computing greedy matching.\n"
          ]
        },
        {
          "output_type": "display_data",
          "data": {
            "text/plain": [
              "  0%|          | 0/1 [00:00<?, ?it/s]"
            ],
            "application/vnd.jupyter.widget-view+json": {
              "version_major": 2,
              "version_minor": 0,
              "model_id": "e5c3a1b88d6c4a14a4db47b75dfdfb90"
            }
          },
          "metadata": {}
        },
        {
          "output_type": "stream",
          "name": "stdout",
          "text": [
            "done in 0.53 seconds, 18.83 sentences/sec\n",
            "BERT Precision: 0.874\n",
            "BERT Recall: 0.869\n",
            "BERT F1: 0.871\n"
          ]
        }
      ]
    },
    {
      "cell_type": "code",
      "source": [
        "from nltk.translate.meteor_score import meteor_score\n",
        "import nltk\n",
        "nltk.download('wordnet')  # Required for METEOR\n",
        "\n",
        "# Assuming candidates and references are already tokenized lists\n",
        "\n",
        "# Calculate METEOR scores\n",
        "meteor_scores = [meteor_score([ref], cand) for ref, cand in zip(references, candidates)]\n",
        "\n",
        "# Print average METEOR score\n",
        "average_meteor_score = sum(meteor_scores) / len(meteor_scores)\n",
        "print(f\"Average METEOR Score: {average_meteor_score:.3f}\")"
      ],
      "metadata": {
        "colab": {
          "base_uri": "https://localhost:8080/"
        },
        "id": "MmgHyUHRP8ws",
        "outputId": "53a2065c-e113-4d71-d764-5c33ba325f9f"
      },
      "execution_count": null,
      "outputs": [
        {
          "output_type": "stream",
          "name": "stdout",
          "text": [
            "Average METEOR Score: 0.601\n"
          ]
        },
        {
          "output_type": "stream",
          "name": "stderr",
          "text": [
            "[nltk_data] Downloading package wordnet to /root/nltk_data...\n",
            "[nltk_data]   Package wordnet is already up-to-date!\n"
          ]
        }
      ]
    }
  ],
  "metadata": {
    "colab": {
      "machine_shape": "hm",
      "provenance": [],
      "include_colab_link": true
    },
    "kernelspec": {
      "display_name": "Python 3",
      "name": "python3"
    },
    "language_info": {
      "name": "python"
    },
    "widgets": {
      "application/vnd.jupyter.widget-state+json": {
        "0553f1d3214b46af895d95cc495cafbe": {
          "model_module": "@jupyter-widgets/controls",
          "model_name": "HBoxModel",
          "model_module_version": "1.5.0",
          "state": {
            "_dom_classes": [],
            "_model_module": "@jupyter-widgets/controls",
            "_model_module_version": "1.5.0",
            "_model_name": "HBoxModel",
            "_view_count": null,
            "_view_module": "@jupyter-widgets/controls",
            "_view_module_version": "1.5.0",
            "_view_name": "HBoxView",
            "box_style": "",
            "children": [
              "IPY_MODEL_d388f6a27b4e4078999244fdd39746d1",
              "IPY_MODEL_0daa9ffc03704d1281eb93c19c2fddc1",
              "IPY_MODEL_667eac8e83ea4e208dfe52dddf7f4adb"
            ],
            "layout": "IPY_MODEL_f20a8ee36f004c8eaf3b5da969e856cb"
          }
        },
        "d388f6a27b4e4078999244fdd39746d1": {
          "model_module": "@jupyter-widgets/controls",
          "model_name": "HTMLModel",
          "model_module_version": "1.5.0",
          "state": {
            "_dom_classes": [],
            "_model_module": "@jupyter-widgets/controls",
            "_model_module_version": "1.5.0",
            "_model_name": "HTMLModel",
            "_view_count": null,
            "_view_module": "@jupyter-widgets/controls",
            "_view_module_version": "1.5.0",
            "_view_name": "HTMLView",
            "description": "",
            "description_tooltip": null,
            "layout": "IPY_MODEL_2262f08b6d2f4a36aaa41068e6cf8484",
            "placeholder": "​",
            "style": "IPY_MODEL_c9c3cdb2271c48aab3dcc5fb99e9e371",
            "value": "100%"
          }
        },
        "0daa9ffc03704d1281eb93c19c2fddc1": {
          "model_module": "@jupyter-widgets/controls",
          "model_name": "FloatProgressModel",
          "model_module_version": "1.5.0",
          "state": {
            "_dom_classes": [],
            "_model_module": "@jupyter-widgets/controls",
            "_model_module_version": "1.5.0",
            "_model_name": "FloatProgressModel",
            "_view_count": null,
            "_view_module": "@jupyter-widgets/controls",
            "_view_module_version": "1.5.0",
            "_view_name": "ProgressView",
            "bar_style": "success",
            "description": "",
            "description_tooltip": null,
            "layout": "IPY_MODEL_40d24d8f93964c6d99481c6cfd1c150f",
            "max": 1,
            "min": 0,
            "orientation": "horizontal",
            "style": "IPY_MODEL_551190b5b0654c3fadac1a6bb4d082c7",
            "value": 1
          }
        },
        "667eac8e83ea4e208dfe52dddf7f4adb": {
          "model_module": "@jupyter-widgets/controls",
          "model_name": "HTMLModel",
          "model_module_version": "1.5.0",
          "state": {
            "_dom_classes": [],
            "_model_module": "@jupyter-widgets/controls",
            "_model_module_version": "1.5.0",
            "_model_name": "HTMLModel",
            "_view_count": null,
            "_view_module": "@jupyter-widgets/controls",
            "_view_module_version": "1.5.0",
            "_view_name": "HTMLView",
            "description": "",
            "description_tooltip": null,
            "layout": "IPY_MODEL_d1236b7743df4050a36dc73b9d3370a6",
            "placeholder": "​",
            "style": "IPY_MODEL_efe61c5a38d54c20ae440f086b1e49fa",
            "value": " 1/1 [00:00&lt;00:00,  1.97it/s]"
          }
        },
        "f20a8ee36f004c8eaf3b5da969e856cb": {
          "model_module": "@jupyter-widgets/base",
          "model_name": "LayoutModel",
          "model_module_version": "1.2.0",
          "state": {
            "_model_module": "@jupyter-widgets/base",
            "_model_module_version": "1.2.0",
            "_model_name": "LayoutModel",
            "_view_count": null,
            "_view_module": "@jupyter-widgets/base",
            "_view_module_version": "1.2.0",
            "_view_name": "LayoutView",
            "align_content": null,
            "align_items": null,
            "align_self": null,
            "border": null,
            "bottom": null,
            "display": null,
            "flex": null,
            "flex_flow": null,
            "grid_area": null,
            "grid_auto_columns": null,
            "grid_auto_flow": null,
            "grid_auto_rows": null,
            "grid_column": null,
            "grid_gap": null,
            "grid_row": null,
            "grid_template_areas": null,
            "grid_template_columns": null,
            "grid_template_rows": null,
            "height": null,
            "justify_content": null,
            "justify_items": null,
            "left": null,
            "margin": null,
            "max_height": null,
            "max_width": null,
            "min_height": null,
            "min_width": null,
            "object_fit": null,
            "object_position": null,
            "order": null,
            "overflow": null,
            "overflow_x": null,
            "overflow_y": null,
            "padding": null,
            "right": null,
            "top": null,
            "visibility": null,
            "width": null
          }
        },
        "2262f08b6d2f4a36aaa41068e6cf8484": {
          "model_module": "@jupyter-widgets/base",
          "model_name": "LayoutModel",
          "model_module_version": "1.2.0",
          "state": {
            "_model_module": "@jupyter-widgets/base",
            "_model_module_version": "1.2.0",
            "_model_name": "LayoutModel",
            "_view_count": null,
            "_view_module": "@jupyter-widgets/base",
            "_view_module_version": "1.2.0",
            "_view_name": "LayoutView",
            "align_content": null,
            "align_items": null,
            "align_self": null,
            "border": null,
            "bottom": null,
            "display": null,
            "flex": null,
            "flex_flow": null,
            "grid_area": null,
            "grid_auto_columns": null,
            "grid_auto_flow": null,
            "grid_auto_rows": null,
            "grid_column": null,
            "grid_gap": null,
            "grid_row": null,
            "grid_template_areas": null,
            "grid_template_columns": null,
            "grid_template_rows": null,
            "height": null,
            "justify_content": null,
            "justify_items": null,
            "left": null,
            "margin": null,
            "max_height": null,
            "max_width": null,
            "min_height": null,
            "min_width": null,
            "object_fit": null,
            "object_position": null,
            "order": null,
            "overflow": null,
            "overflow_x": null,
            "overflow_y": null,
            "padding": null,
            "right": null,
            "top": null,
            "visibility": null,
            "width": null
          }
        },
        "c9c3cdb2271c48aab3dcc5fb99e9e371": {
          "model_module": "@jupyter-widgets/controls",
          "model_name": "DescriptionStyleModel",
          "model_module_version": "1.5.0",
          "state": {
            "_model_module": "@jupyter-widgets/controls",
            "_model_module_version": "1.5.0",
            "_model_name": "DescriptionStyleModel",
            "_view_count": null,
            "_view_module": "@jupyter-widgets/base",
            "_view_module_version": "1.2.0",
            "_view_name": "StyleView",
            "description_width": ""
          }
        },
        "40d24d8f93964c6d99481c6cfd1c150f": {
          "model_module": "@jupyter-widgets/base",
          "model_name": "LayoutModel",
          "model_module_version": "1.2.0",
          "state": {
            "_model_module": "@jupyter-widgets/base",
            "_model_module_version": "1.2.0",
            "_model_name": "LayoutModel",
            "_view_count": null,
            "_view_module": "@jupyter-widgets/base",
            "_view_module_version": "1.2.0",
            "_view_name": "LayoutView",
            "align_content": null,
            "align_items": null,
            "align_self": null,
            "border": null,
            "bottom": null,
            "display": null,
            "flex": null,
            "flex_flow": null,
            "grid_area": null,
            "grid_auto_columns": null,
            "grid_auto_flow": null,
            "grid_auto_rows": null,
            "grid_column": null,
            "grid_gap": null,
            "grid_row": null,
            "grid_template_areas": null,
            "grid_template_columns": null,
            "grid_template_rows": null,
            "height": null,
            "justify_content": null,
            "justify_items": null,
            "left": null,
            "margin": null,
            "max_height": null,
            "max_width": null,
            "min_height": null,
            "min_width": null,
            "object_fit": null,
            "object_position": null,
            "order": null,
            "overflow": null,
            "overflow_x": null,
            "overflow_y": null,
            "padding": null,
            "right": null,
            "top": null,
            "visibility": null,
            "width": null
          }
        },
        "551190b5b0654c3fadac1a6bb4d082c7": {
          "model_module": "@jupyter-widgets/controls",
          "model_name": "ProgressStyleModel",
          "model_module_version": "1.5.0",
          "state": {
            "_model_module": "@jupyter-widgets/controls",
            "_model_module_version": "1.5.0",
            "_model_name": "ProgressStyleModel",
            "_view_count": null,
            "_view_module": "@jupyter-widgets/base",
            "_view_module_version": "1.2.0",
            "_view_name": "StyleView",
            "bar_color": null,
            "description_width": ""
          }
        },
        "d1236b7743df4050a36dc73b9d3370a6": {
          "model_module": "@jupyter-widgets/base",
          "model_name": "LayoutModel",
          "model_module_version": "1.2.0",
          "state": {
            "_model_module": "@jupyter-widgets/base",
            "_model_module_version": "1.2.0",
            "_model_name": "LayoutModel",
            "_view_count": null,
            "_view_module": "@jupyter-widgets/base",
            "_view_module_version": "1.2.0",
            "_view_name": "LayoutView",
            "align_content": null,
            "align_items": null,
            "align_self": null,
            "border": null,
            "bottom": null,
            "display": null,
            "flex": null,
            "flex_flow": null,
            "grid_area": null,
            "grid_auto_columns": null,
            "grid_auto_flow": null,
            "grid_auto_rows": null,
            "grid_column": null,
            "grid_gap": null,
            "grid_row": null,
            "grid_template_areas": null,
            "grid_template_columns": null,
            "grid_template_rows": null,
            "height": null,
            "justify_content": null,
            "justify_items": null,
            "left": null,
            "margin": null,
            "max_height": null,
            "max_width": null,
            "min_height": null,
            "min_width": null,
            "object_fit": null,
            "object_position": null,
            "order": null,
            "overflow": null,
            "overflow_x": null,
            "overflow_y": null,
            "padding": null,
            "right": null,
            "top": null,
            "visibility": null,
            "width": null
          }
        },
        "efe61c5a38d54c20ae440f086b1e49fa": {
          "model_module": "@jupyter-widgets/controls",
          "model_name": "DescriptionStyleModel",
          "model_module_version": "1.5.0",
          "state": {
            "_model_module": "@jupyter-widgets/controls",
            "_model_module_version": "1.5.0",
            "_model_name": "DescriptionStyleModel",
            "_view_count": null,
            "_view_module": "@jupyter-widgets/base",
            "_view_module_version": "1.2.0",
            "_view_name": "StyleView",
            "description_width": ""
          }
        },
        "e5c3a1b88d6c4a14a4db47b75dfdfb90": {
          "model_module": "@jupyter-widgets/controls",
          "model_name": "HBoxModel",
          "model_module_version": "1.5.0",
          "state": {
            "_dom_classes": [],
            "_model_module": "@jupyter-widgets/controls",
            "_model_module_version": "1.5.0",
            "_model_name": "HBoxModel",
            "_view_count": null,
            "_view_module": "@jupyter-widgets/controls",
            "_view_module_version": "1.5.0",
            "_view_name": "HBoxView",
            "box_style": "",
            "children": [
              "IPY_MODEL_d3946a38617a4713969b76bac0f90d68",
              "IPY_MODEL_10248f5fbded45babfea26bc253410be",
              "IPY_MODEL_2b21facedf034638b3b5de8abb1c87d1"
            ],
            "layout": "IPY_MODEL_029ab0102d3446c994cbd27b7d3209fb"
          }
        },
        "d3946a38617a4713969b76bac0f90d68": {
          "model_module": "@jupyter-widgets/controls",
          "model_name": "HTMLModel",
          "model_module_version": "1.5.0",
          "state": {
            "_dom_classes": [],
            "_model_module": "@jupyter-widgets/controls",
            "_model_module_version": "1.5.0",
            "_model_name": "HTMLModel",
            "_view_count": null,
            "_view_module": "@jupyter-widgets/controls",
            "_view_module_version": "1.5.0",
            "_view_name": "HTMLView",
            "description": "",
            "description_tooltip": null,
            "layout": "IPY_MODEL_0f850258338f4144a6f68951a53793a5",
            "placeholder": "​",
            "style": "IPY_MODEL_19f2832b22f048ddb77512008037a8bc",
            "value": "100%"
          }
        },
        "10248f5fbded45babfea26bc253410be": {
          "model_module": "@jupyter-widgets/controls",
          "model_name": "FloatProgressModel",
          "model_module_version": "1.5.0",
          "state": {
            "_dom_classes": [],
            "_model_module": "@jupyter-widgets/controls",
            "_model_module_version": "1.5.0",
            "_model_name": "FloatProgressModel",
            "_view_count": null,
            "_view_module": "@jupyter-widgets/controls",
            "_view_module_version": "1.5.0",
            "_view_name": "ProgressView",
            "bar_style": "success",
            "description": "",
            "description_tooltip": null,
            "layout": "IPY_MODEL_ff5dcc15032942faa921d875a9145293",
            "max": 1,
            "min": 0,
            "orientation": "horizontal",
            "style": "IPY_MODEL_f9d2ffbe4f544f8d83d0de124640d758",
            "value": 1
          }
        },
        "2b21facedf034638b3b5de8abb1c87d1": {
          "model_module": "@jupyter-widgets/controls",
          "model_name": "HTMLModel",
          "model_module_version": "1.5.0",
          "state": {
            "_dom_classes": [],
            "_model_module": "@jupyter-widgets/controls",
            "_model_module_version": "1.5.0",
            "_model_name": "HTMLModel",
            "_view_count": null,
            "_view_module": "@jupyter-widgets/controls",
            "_view_module_version": "1.5.0",
            "_view_name": "HTMLView",
            "description": "",
            "description_tooltip": null,
            "layout": "IPY_MODEL_b04158576971403b98eefd6041795c0b",
            "placeholder": "​",
            "style": "IPY_MODEL_09bbabe19a104483a2a058402e2a2fa7",
            "value": " 1/1 [00:00&lt;00:00, 54.68it/s]"
          }
        },
        "029ab0102d3446c994cbd27b7d3209fb": {
          "model_module": "@jupyter-widgets/base",
          "model_name": "LayoutModel",
          "model_module_version": "1.2.0",
          "state": {
            "_model_module": "@jupyter-widgets/base",
            "_model_module_version": "1.2.0",
            "_model_name": "LayoutModel",
            "_view_count": null,
            "_view_module": "@jupyter-widgets/base",
            "_view_module_version": "1.2.0",
            "_view_name": "LayoutView",
            "align_content": null,
            "align_items": null,
            "align_self": null,
            "border": null,
            "bottom": null,
            "display": null,
            "flex": null,
            "flex_flow": null,
            "grid_area": null,
            "grid_auto_columns": null,
            "grid_auto_flow": null,
            "grid_auto_rows": null,
            "grid_column": null,
            "grid_gap": null,
            "grid_row": null,
            "grid_template_areas": null,
            "grid_template_columns": null,
            "grid_template_rows": null,
            "height": null,
            "justify_content": null,
            "justify_items": null,
            "left": null,
            "margin": null,
            "max_height": null,
            "max_width": null,
            "min_height": null,
            "min_width": null,
            "object_fit": null,
            "object_position": null,
            "order": null,
            "overflow": null,
            "overflow_x": null,
            "overflow_y": null,
            "padding": null,
            "right": null,
            "top": null,
            "visibility": null,
            "width": null
          }
        },
        "0f850258338f4144a6f68951a53793a5": {
          "model_module": "@jupyter-widgets/base",
          "model_name": "LayoutModel",
          "model_module_version": "1.2.0",
          "state": {
            "_model_module": "@jupyter-widgets/base",
            "_model_module_version": "1.2.0",
            "_model_name": "LayoutModel",
            "_view_count": null,
            "_view_module": "@jupyter-widgets/base",
            "_view_module_version": "1.2.0",
            "_view_name": "LayoutView",
            "align_content": null,
            "align_items": null,
            "align_self": null,
            "border": null,
            "bottom": null,
            "display": null,
            "flex": null,
            "flex_flow": null,
            "grid_area": null,
            "grid_auto_columns": null,
            "grid_auto_flow": null,
            "grid_auto_rows": null,
            "grid_column": null,
            "grid_gap": null,
            "grid_row": null,
            "grid_template_areas": null,
            "grid_template_columns": null,
            "grid_template_rows": null,
            "height": null,
            "justify_content": null,
            "justify_items": null,
            "left": null,
            "margin": null,
            "max_height": null,
            "max_width": null,
            "min_height": null,
            "min_width": null,
            "object_fit": null,
            "object_position": null,
            "order": null,
            "overflow": null,
            "overflow_x": null,
            "overflow_y": null,
            "padding": null,
            "right": null,
            "top": null,
            "visibility": null,
            "width": null
          }
        },
        "19f2832b22f048ddb77512008037a8bc": {
          "model_module": "@jupyter-widgets/controls",
          "model_name": "DescriptionStyleModel",
          "model_module_version": "1.5.0",
          "state": {
            "_model_module": "@jupyter-widgets/controls",
            "_model_module_version": "1.5.0",
            "_model_name": "DescriptionStyleModel",
            "_view_count": null,
            "_view_module": "@jupyter-widgets/base",
            "_view_module_version": "1.2.0",
            "_view_name": "StyleView",
            "description_width": ""
          }
        },
        "ff5dcc15032942faa921d875a9145293": {
          "model_module": "@jupyter-widgets/base",
          "model_name": "LayoutModel",
          "model_module_version": "1.2.0",
          "state": {
            "_model_module": "@jupyter-widgets/base",
            "_model_module_version": "1.2.0",
            "_model_name": "LayoutModel",
            "_view_count": null,
            "_view_module": "@jupyter-widgets/base",
            "_view_module_version": "1.2.0",
            "_view_name": "LayoutView",
            "align_content": null,
            "align_items": null,
            "align_self": null,
            "border": null,
            "bottom": null,
            "display": null,
            "flex": null,
            "flex_flow": null,
            "grid_area": null,
            "grid_auto_columns": null,
            "grid_auto_flow": null,
            "grid_auto_rows": null,
            "grid_column": null,
            "grid_gap": null,
            "grid_row": null,
            "grid_template_areas": null,
            "grid_template_columns": null,
            "grid_template_rows": null,
            "height": null,
            "justify_content": null,
            "justify_items": null,
            "left": null,
            "margin": null,
            "max_height": null,
            "max_width": null,
            "min_height": null,
            "min_width": null,
            "object_fit": null,
            "object_position": null,
            "order": null,
            "overflow": null,
            "overflow_x": null,
            "overflow_y": null,
            "padding": null,
            "right": null,
            "top": null,
            "visibility": null,
            "width": null
          }
        },
        "f9d2ffbe4f544f8d83d0de124640d758": {
          "model_module": "@jupyter-widgets/controls",
          "model_name": "ProgressStyleModel",
          "model_module_version": "1.5.0",
          "state": {
            "_model_module": "@jupyter-widgets/controls",
            "_model_module_version": "1.5.0",
            "_model_name": "ProgressStyleModel",
            "_view_count": null,
            "_view_module": "@jupyter-widgets/base",
            "_view_module_version": "1.2.0",
            "_view_name": "StyleView",
            "bar_color": null,
            "description_width": ""
          }
        },
        "b04158576971403b98eefd6041795c0b": {
          "model_module": "@jupyter-widgets/base",
          "model_name": "LayoutModel",
          "model_module_version": "1.2.0",
          "state": {
            "_model_module": "@jupyter-widgets/base",
            "_model_module_version": "1.2.0",
            "_model_name": "LayoutModel",
            "_view_count": null,
            "_view_module": "@jupyter-widgets/base",
            "_view_module_version": "1.2.0",
            "_view_name": "LayoutView",
            "align_content": null,
            "align_items": null,
            "align_self": null,
            "border": null,
            "bottom": null,
            "display": null,
            "flex": null,
            "flex_flow": null,
            "grid_area": null,
            "grid_auto_columns": null,
            "grid_auto_flow": null,
            "grid_auto_rows": null,
            "grid_column": null,
            "grid_gap": null,
            "grid_row": null,
            "grid_template_areas": null,
            "grid_template_columns": null,
            "grid_template_rows": null,
            "height": null,
            "justify_content": null,
            "justify_items": null,
            "left": null,
            "margin": null,
            "max_height": null,
            "max_width": null,
            "min_height": null,
            "min_width": null,
            "object_fit": null,
            "object_position": null,
            "order": null,
            "overflow": null,
            "overflow_x": null,
            "overflow_y": null,
            "padding": null,
            "right": null,
            "top": null,
            "visibility": null,
            "width": null
          }
        },
        "09bbabe19a104483a2a058402e2a2fa7": {
          "model_module": "@jupyter-widgets/controls",
          "model_name": "DescriptionStyleModel",
          "model_module_version": "1.5.0",
          "state": {
            "_model_module": "@jupyter-widgets/controls",
            "_model_module_version": "1.5.0",
            "_model_name": "DescriptionStyleModel",
            "_view_count": null,
            "_view_module": "@jupyter-widgets/base",
            "_view_module_version": "1.2.0",
            "_view_name": "StyleView",
            "description_width": ""
          }
        }
      }
    }
  },
  "nbformat": 4,
  "nbformat_minor": 0
}